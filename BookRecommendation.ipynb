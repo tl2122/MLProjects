{
  "cells": [
    {
      "cell_type": "markdown",
      "metadata": {
        "id": "qjDe-rp2_EwR"
      },
      "source": [
        "##Introduction\n",
        "A recommendation system is built to predict the most preferred choices of books for a user, based on the book ratings made by the user. Two different recommendation models are presented. Analogous models can be applied to product or service recommendations in a company.\n"
      ]
    },
    {
      "cell_type": "code",
      "execution_count": 2,
      "metadata": {
        "colab": {
          "base_uri": "https://localhost:8080/"
        },
        "id": "PLC5X3-5--AP",
        "outputId": "3b6e956a-f720-4bfa-fb42-06d8b905c7bf"
      },
      "outputs": [
        {
          "output_type": "stream",
          "name": "stdout",
          "text": [
            "Mounted at /gdrive\n",
            "/gdrive\n"
          ]
        }
      ],
      "source": [
        "from google.colab import drive\n",
        "drive.mount('/gdrive')\n",
        "%cd /gdrive"
      ]
    },
    {
      "cell_type": "code",
      "execution_count": 3,
      "metadata": {
        "id": "zw3krSo8_WA9"
      },
      "outputs": [],
      "source": [
        "import numpy as np\n",
        "import pandas as pd\n",
        "import matplotlib.pyplot as plt\n",
        "import tensorflow as tf\n",
        "\n",
        "from keras.layers import Input, Embedding, Flatten, Dot, Dense\n",
        "from keras.models import Model\n",
        "%matplotlib inline"
      ]
    },
    {
      "cell_type": "markdown",
      "source": [
        "###Data"
      ],
      "metadata": {
        "id": "GMZhwyeIM1r9"
      }
    },
    {
      "cell_type": "code",
      "execution_count": 4,
      "metadata": {
        "colab": {
          "base_uri": "https://localhost:8080/",
          "height": 381
        },
        "id": "CxqpCfgo__BD",
        "outputId": "1c0c6a59-b47d-44b4-b416-0ef7098f20d5"
      },
      "outputs": [
        {
          "output_type": "stream",
          "name": "stdout",
          "text": [
            "/gdrive/MyDrive/MLData\n"
          ]
        },
        {
          "output_type": "execute_result",
          "data": {
            "text/plain": [
              "   book_id  user_id  rating\n",
              "0        1      314       5\n",
              "1        1      439       3\n",
              "2        1      588       5\n",
              "3        1     1169       4\n",
              "4        1     1185       4\n",
              "5        1     2077       4\n",
              "6        1     2487       4\n",
              "7        1     2900       5\n",
              "8        1     3662       4\n",
              "9        1     3922       5"
            ],
            "text/html": [
              "\n",
              "  <div id=\"df-02e0f2cb-1b14-4108-b512-2c67f3ffff5f\">\n",
              "    <div class=\"colab-df-container\">\n",
              "      <div>\n",
              "<style scoped>\n",
              "    .dataframe tbody tr th:only-of-type {\n",
              "        vertical-align: middle;\n",
              "    }\n",
              "\n",
              "    .dataframe tbody tr th {\n",
              "        vertical-align: top;\n",
              "    }\n",
              "\n",
              "    .dataframe thead th {\n",
              "        text-align: right;\n",
              "    }\n",
              "</style>\n",
              "<table border=\"1\" class=\"dataframe\">\n",
              "  <thead>\n",
              "    <tr style=\"text-align: right;\">\n",
              "      <th></th>\n",
              "      <th>book_id</th>\n",
              "      <th>user_id</th>\n",
              "      <th>rating</th>\n",
              "    </tr>\n",
              "  </thead>\n",
              "  <tbody>\n",
              "    <tr>\n",
              "      <th>0</th>\n",
              "      <td>1</td>\n",
              "      <td>314</td>\n",
              "      <td>5</td>\n",
              "    </tr>\n",
              "    <tr>\n",
              "      <th>1</th>\n",
              "      <td>1</td>\n",
              "      <td>439</td>\n",
              "      <td>3</td>\n",
              "    </tr>\n",
              "    <tr>\n",
              "      <th>2</th>\n",
              "      <td>1</td>\n",
              "      <td>588</td>\n",
              "      <td>5</td>\n",
              "    </tr>\n",
              "    <tr>\n",
              "      <th>3</th>\n",
              "      <td>1</td>\n",
              "      <td>1169</td>\n",
              "      <td>4</td>\n",
              "    </tr>\n",
              "    <tr>\n",
              "      <th>4</th>\n",
              "      <td>1</td>\n",
              "      <td>1185</td>\n",
              "      <td>4</td>\n",
              "    </tr>\n",
              "    <tr>\n",
              "      <th>5</th>\n",
              "      <td>1</td>\n",
              "      <td>2077</td>\n",
              "      <td>4</td>\n",
              "    </tr>\n",
              "    <tr>\n",
              "      <th>6</th>\n",
              "      <td>1</td>\n",
              "      <td>2487</td>\n",
              "      <td>4</td>\n",
              "    </tr>\n",
              "    <tr>\n",
              "      <th>7</th>\n",
              "      <td>1</td>\n",
              "      <td>2900</td>\n",
              "      <td>5</td>\n",
              "    </tr>\n",
              "    <tr>\n",
              "      <th>8</th>\n",
              "      <td>1</td>\n",
              "      <td>3662</td>\n",
              "      <td>4</td>\n",
              "    </tr>\n",
              "    <tr>\n",
              "      <th>9</th>\n",
              "      <td>1</td>\n",
              "      <td>3922</td>\n",
              "      <td>5</td>\n",
              "    </tr>\n",
              "  </tbody>\n",
              "</table>\n",
              "</div>\n",
              "      <button class=\"colab-df-convert\" onclick=\"convertToInteractive('df-02e0f2cb-1b14-4108-b512-2c67f3ffff5f')\"\n",
              "              title=\"Convert this dataframe to an interactive table.\"\n",
              "              style=\"display:none;\">\n",
              "        \n",
              "  <svg xmlns=\"http://www.w3.org/2000/svg\" height=\"24px\"viewBox=\"0 0 24 24\"\n",
              "       width=\"24px\">\n",
              "    <path d=\"M0 0h24v24H0V0z\" fill=\"none\"/>\n",
              "    <path d=\"M18.56 5.44l.94 2.06.94-2.06 2.06-.94-2.06-.94-.94-2.06-.94 2.06-2.06.94zm-11 1L8.5 8.5l.94-2.06 2.06-.94-2.06-.94L8.5 2.5l-.94 2.06-2.06.94zm10 10l.94 2.06.94-2.06 2.06-.94-2.06-.94-.94-2.06-.94 2.06-2.06.94z\"/><path d=\"M17.41 7.96l-1.37-1.37c-.4-.4-.92-.59-1.43-.59-.52 0-1.04.2-1.43.59L10.3 9.45l-7.72 7.72c-.78.78-.78 2.05 0 2.83L4 21.41c.39.39.9.59 1.41.59.51 0 1.02-.2 1.41-.59l7.78-7.78 2.81-2.81c.8-.78.8-2.07 0-2.86zM5.41 20L4 18.59l7.72-7.72 1.47 1.35L5.41 20z\"/>\n",
              "  </svg>\n",
              "      </button>\n",
              "      \n",
              "  <style>\n",
              "    .colab-df-container {\n",
              "      display:flex;\n",
              "      flex-wrap:wrap;\n",
              "      gap: 12px;\n",
              "    }\n",
              "\n",
              "    .colab-df-convert {\n",
              "      background-color: #E8F0FE;\n",
              "      border: none;\n",
              "      border-radius: 50%;\n",
              "      cursor: pointer;\n",
              "      display: none;\n",
              "      fill: #1967D2;\n",
              "      height: 32px;\n",
              "      padding: 0 0 0 0;\n",
              "      width: 32px;\n",
              "    }\n",
              "\n",
              "    .colab-df-convert:hover {\n",
              "      background-color: #E2EBFA;\n",
              "      box-shadow: 0px 1px 2px rgba(60, 64, 67, 0.3), 0px 1px 3px 1px rgba(60, 64, 67, 0.15);\n",
              "      fill: #174EA6;\n",
              "    }\n",
              "\n",
              "    [theme=dark] .colab-df-convert {\n",
              "      background-color: #3B4455;\n",
              "      fill: #D2E3FC;\n",
              "    }\n",
              "\n",
              "    [theme=dark] .colab-df-convert:hover {\n",
              "      background-color: #434B5C;\n",
              "      box-shadow: 0px 1px 3px 1px rgba(0, 0, 0, 0.15);\n",
              "      filter: drop-shadow(0px 1px 2px rgba(0, 0, 0, 0.3));\n",
              "      fill: #FFFFFF;\n",
              "    }\n",
              "  </style>\n",
              "\n",
              "      <script>\n",
              "        const buttonEl =\n",
              "          document.querySelector('#df-02e0f2cb-1b14-4108-b512-2c67f3ffff5f button.colab-df-convert');\n",
              "        buttonEl.style.display =\n",
              "          google.colab.kernel.accessAllowed ? 'block' : 'none';\n",
              "\n",
              "        async function convertToInteractive(key) {\n",
              "          const element = document.querySelector('#df-02e0f2cb-1b14-4108-b512-2c67f3ffff5f');\n",
              "          const dataTable =\n",
              "            await google.colab.kernel.invokeFunction('convertToInteractive',\n",
              "                                                     [key], {});\n",
              "          if (!dataTable) return;\n",
              "\n",
              "          const docLinkHtml = 'Like what you see? Visit the ' +\n",
              "            '<a target=\"_blank\" href=https://colab.research.google.com/notebooks/data_table.ipynb>data table notebook</a>'\n",
              "            + ' to learn more about interactive tables.';\n",
              "          element.innerHTML = '';\n",
              "          dataTable['output_type'] = 'display_data';\n",
              "          await google.colab.output.renderOutput(dataTable, element);\n",
              "          const docLink = document.createElement('div');\n",
              "          docLink.innerHTML = docLinkHtml;\n",
              "          element.appendChild(docLink);\n",
              "        }\n",
              "      </script>\n",
              "    </div>\n",
              "  </div>\n",
              "  "
            ]
          },
          "metadata": {},
          "execution_count": 4
        }
      ],
      "source": [
        "%cd MyDrive/MLData\n",
        "dataset = pd.read_csv('bookreco/ratings.csv')\n",
        "dataset.head(10)"
      ]
    },
    {
      "cell_type": "markdown",
      "source": [
        "**Data contains 10,000 books and 53,424 users, with  mutiple ratings per user and multiple ratings per book.**"
      ],
      "metadata": {
        "id": "LTrvI4kULDf5"
      }
    },
    {
      "cell_type": "code",
      "execution_count": 5,
      "metadata": {
        "colab": {
          "base_uri": "https://localhost:8080/"
        },
        "id": "ioj70mCAACfQ",
        "outputId": "babfdea8-a95a-4a18-dae1-eb9cb67265f9"
      },
      "outputs": [
        {
          "output_type": "stream",
          "name": "stdout",
          "text": [
            "Unique values in each column\n",
            "book_id 10000\n",
            "user_id 53424\n",
            "rating 5\n",
            "-------------------- Null Values\n"
          ]
        },
        {
          "output_type": "execute_result",
          "data": {
            "text/plain": [
              "book_id    False\n",
              "user_id    False\n",
              "rating     False\n",
              "dtype: bool"
            ]
          },
          "metadata": {},
          "execution_count": 5
        }
      ],
      "source": [
        "print (\"Unique values in each column\")\n",
        "nbooks   = 0\n",
        "nusers   = 0\n",
        "nratings = 0\n",
        "for i in dataset.columns:\n",
        "  unq= np.unique(dataset[i])\n",
        "  print (i,len(unq))\n",
        "  if 'book' in i:   nbooks = len(unq)\n",
        "  if 'user' in i:   nusers = len(unq)\n",
        "  if 'rating' in i: nratings = len(unq)\n",
        "\n",
        "print (10*'--',\"Null Values\")\n",
        "dataset.isna().any()"
      ]
    },
    {
      "cell_type": "markdown",
      "source": [
        "\n",
        "\n",
        "---\n",
        "\n",
        "**Check Ratings**"
      ],
      "metadata": {
        "id": "VOrn3r2oNht8"
      }
    },
    {
      "cell_type": "code",
      "source": [
        "plt.hist(dataset.rating)\n",
        "plt.title(\"Ratings\")"
      ],
      "metadata": {
        "colab": {
          "base_uri": "https://localhost:8080/",
          "height": 299
        },
        "id": "rve3L23eHQA5",
        "outputId": "e20ae036-33cb-4e35-d111-4daefbdb6cee"
      },
      "execution_count": 6,
      "outputs": [
        {
          "output_type": "execute_result",
          "data": {
            "text/plain": [
              "Text(0.5, 1.0, 'Ratings')"
            ]
          },
          "metadata": {},
          "execution_count": 6
        },
        {
          "output_type": "display_data",
          "data": {
            "text/plain": [
              "<Figure size 432x288 with 1 Axes>"
            ],
            "image/png": "[encoded data removed]"
          },
          "metadata": {
            "needs_background": "light"
          }
        }
      ]
    },
    {
      "cell_type": "markdown",
      "source": [
        "Ratings are inclined towards higher 3-5 range. "
      ],
      "metadata": {
        "id": "VnshLxqwM81e"
      }
    },
    {
      "cell_type": "code",
      "source": [
        "d2 =dataset.groupby('book_id')\n",
        "d3 =dataset.groupby('user_id')"
      ],
      "metadata": {
        "id": "SfX5Q-fhIzCV"
      },
      "execution_count": 7,
      "outputs": []
    },
    {
      "cell_type": "code",
      "source": [
        "mean_rating_book = d2.aggregate([sum,max,min,np.mean]).iloc[:,7]\n",
        "num_user_book   = d2.size()\n",
        "plt.figure(figsize=(8,4))\n",
        "plt.subplot(121)\n",
        "ar=plt.hist(mean_rating_book,bins=100)\n",
        "plt.title(\"Mean Rating per book\")\n",
        "plt.subplot(122)\n",
        "ar=plt.hist(num_user_book,bins=100)\n",
        "plt.title(\"Mean Users per book\")"
      ],
      "metadata": {
        "colab": {
          "base_uri": "https://localhost:8080/",
          "height": 299
        },
        "id": "F7ARYfJMI8-l",
        "outputId": "607f6c0b-6c65-46b5-a04f-e80f31f84544"
      },
      "execution_count": 8,
      "outputs": [
        {
          "output_type": "execute_result",
          "data": {
            "text/plain": [
              "Text(0.5, 1.0, 'Mean Users per book')"
            ]
          },
          "metadata": {},
          "execution_count": 8
        },
        {
          "output_type": "display_data",
          "data": {
            "text/plain": [
              "<Figure size 576x288 with 2 Axes>"
            ],
            "image/png": "[encoded data removed]"
          },
          "metadata": {
            "needs_background": "light"
          }
        }
      ]
    },
    {
      "cell_type": "markdown",
      "source": [
        "##Models\n",
        "The user and book id data are converted into embeddings and the model is trained to predict ratings for  each book, by each user. Two models are tested:\n",
        "1. Dot product model uses the dot product of the book and user embeddings to predict the rating.\n",
        "2. Neural Nets model convert user and book embeddings into a fully connected layer, added to few more hidden layers."
      ],
      "metadata": {
        "id": "qscObEJhOWq9"
      }
    },
    {
      "cell_type": "markdown",
      "source": [
        "###Dot Product Model"
      ],
      "metadata": {
        "id": "685fnM-6ZZrG"
      }
    },
    {
      "cell_type": "code",
      "execution_count": 9,
      "metadata": {
        "id": "eLhzWRHyG2DH"
      },
      "outputs": [],
      "source": [
        "# Create embeddings\n",
        "book_inputs   = tf.keras.Input(shape=(1,))\n",
        "book_embed    = tf.keras.layers.Embedding(\n",
        "                input_dim   = nbooks+1,\n",
        "                output_dim  = 5\n",
        "    )(book_inputs)\n",
        "book_vec = Flatten()(book_embed)\n",
        "\n",
        "user_inputs   = tf.keras.Input(shape=(1,))\n",
        "user_embed    = tf.keras.layers.Embedding(\n",
        "              input_dim  = nusers+1,\n",
        "              output_dim = 5\n",
        ")(user_inputs)\n",
        "user_vec = Flatten()(user_embed)\n",
        "\n",
        "prod  = tf.keras.layers.Dot(axes=1)([book_vec,user_vec])\n",
        "model = Model([user_inputs,book_inputs],prod)\n",
        "model.compile('adam','mse')"
      ]
    },
    {
      "cell_type": "code",
      "execution_count": 10,
      "metadata": {
        "colab": {
          "base_uri": "https://localhost:8080/"
        },
        "id": "65VxL7mXNTnE",
        "outputId": "0fe507a0-b98e-4909-e73c-6fa7555bfbe5"
      },
      "outputs": [
        {
          "output_type": "stream",
          "name": "stdout",
          "text": [
            "Model: \"model\"\n",
            "__________________________________________________________________________________________________\n",
            " Layer (type)                   Output Shape         Param #     Connected to                     \n",
            "==================================================================================================\n",
            " input_1 (InputLayer)           [(None, 1)]          0           []                               \n",
            "                                                                                                  \n",
            " input_2 (InputLayer)           [(None, 1)]          0           []                               \n",
            "                                                                                                  \n",
            " embedding (Embedding)          (None, 1, 5)         50005       ['input_1[0][0]']                \n",
            "                                                                                                  \n",
            " embedding_1 (Embedding)        (None, 1, 5)         267125      ['input_2[0][0]']                \n",
            "                                                                                                  \n",
            " flatten (Flatten)              (None, 5)            0           ['embedding[0][0]']              \n",
            "                                                                                                  \n",
            " flatten_1 (Flatten)            (None, 5)            0           ['embedding_1[0][0]']            \n",
            "                                                                                                  \n",
            " dot (Dot)                      (None, 1)            0           ['flatten[0][0]',                \n",
            "                                                                  'flatten_1[0][0]']              \n",
            "                                                                                                  \n",
            "==================================================================================================\n",
            "Total params: 317,130\n",
            "Trainable params: 317,130\n",
            "Non-trainable params: 0\n",
            "__________________________________________________________________________________________________\n"
          ]
        }
      ],
      "source": [
        "model.summary()"
      ]
    },
    {
      "cell_type": "markdown",
      "source": [
        "**Split dataset into test and train subsets**"
      ],
      "metadata": {
        "id": "QgFcHsxvY1lb"
      }
    },
    {
      "cell_type": "code",
      "execution_count": 11,
      "metadata": {
        "colab": {
          "base_uri": "https://localhost:8080/"
        },
        "id": "HrbHRX-IP9XM",
        "outputId": "5c9b7264-39dc-47f0-b6b9-060be274e3c5"
      },
      "outputs": [
        {
          "output_type": "stream",
          "name": "stdout",
          "text": [
            "Epoch 1/5\n",
            "24544/24544 [==============================] - 156s 6ms/step - loss: 13.6102\n",
            "Epoch 2/5\n",
            "24544/24544 [==============================] - 133s 5ms/step - loss: 4.2902\n",
            "Epoch 3/5\n",
            "24544/24544 [==============================] - 142s 6ms/step - loss: 1.7574\n",
            "Epoch 4/5\n",
            "24544/24544 [==============================] - 148s 6ms/step - loss: 1.1903\n",
            "Epoch 5/5\n",
            "24544/24544 [==============================] - 153s 6ms/step - loss: 0.9618\n"
          ]
        }
      ],
      "source": [
        "from sklearn.model_selection import train_test_split\n",
        "train, test = train_test_split(dataset, test_size=0.2, random_state=0)\n",
        "history = model.fit([train.user_id, train.book_id],\n",
        "          train.rating, \n",
        "          epochs=5)"
      ]
    },
    {
      "cell_type": "markdown",
      "source": [
        "**Calculate Loss**"
      ],
      "metadata": {
        "id": "AQi8NsNoYCM8"
      }
    },
    {
      "cell_type": "code",
      "source": [
        "import seaborn as sns \n",
        "train_loss= history.history['loss']\n",
        "#train_acc = history.history['mse']\n",
        "\n",
        "xepoch = range(0,len(train_loss))\n",
        "sns.lineplot(x=xepoch,y=train_loss)"
      ],
      "metadata": {
        "id": "zy2q9KTdsfZo",
        "colab": {
          "base_uri": "https://localhost:8080/",
          "height": 284
        },
        "outputId": "00f23f55-88e6-43e4-e1a8-f0a289736306"
      },
      "execution_count": 12,
      "outputs": [
        {
          "output_type": "execute_result",
          "data": {
            "text/plain": [
              "<matplotlib.axes._subplots.AxesSubplot at 0x7f67b3e47310>"
            ]
          },
          "metadata": {},
          "execution_count": 12
        },
        {
          "output_type": "display_data",
          "data": {
            "text/plain": [
              "<Figure size 432x288 with 1 Axes>"
            ],
            "image/png": "[encoded data removed]"
          },
          "metadata": {
            "needs_background": "light"
          }
        }
      ]
    },
    {
      "cell_type": "markdown",
      "source": [
        "###Neural Net Model"
      ],
      "metadata": {
        "id": "LGfsej1QYf5a"
      }
    },
    {
      "cell_type": "code",
      "source": [
        "# Using Embedding + Neural Nets\n",
        "from keras.layers import Concatenate\n",
        "\n",
        "# Create embeddings\n",
        "book_inputs   = tf.keras.Input(shape=(1,))\n",
        "book_embed    = tf.keras.layers.Embedding(\n",
        "                input_dim   = nbooks+1,\n",
        "                output_dim  = 5\n",
        "    )(book_inputs)\n",
        "book_vec = Flatten()(book_embed)\n",
        "\n",
        "user_inputs   = tf.keras.Input(shape=(1,))\n",
        "user_embed    = tf.keras.layers.Embedding(\n",
        "              input_dim  = nusers+1,\n",
        "              output_dim = 5\n",
        ")(user_inputs)\n",
        "user_vec = Flatten()(user_embed)\n",
        "#Concatenate user and book vecs\n",
        "conc = Concatenate()([book_vec,user_vec])\n",
        "\n",
        "#add fully connected layers\n",
        "fc1 = Dense(units=128,activation='relu')(conc)\n",
        "fc2 = Dense(units=32,activation='relu')(fc1)\n",
        "out = Dense(units=1)(fc2)\n",
        "\n",
        "\n",
        "model2 = Model(inputs=[user_inputs,book_inputs],outputs=out)\n",
        "model2.compile('adam','mean_squared_error')"
      ],
      "metadata": {
        "id": "5oUqEn0SuxLp"
      },
      "execution_count": 13,
      "outputs": []
    },
    {
      "cell_type": "code",
      "source": [
        "historyNN = model2.fit([train.user_id, train.book_id],\n",
        "          train.rating, \n",
        "          epochs=1)\n"
      ],
      "metadata": {
        "id": "BBjZAO2xwXMo",
        "colab": {
          "base_uri": "https://localhost:8080/"
        },
        "outputId": "c5d81929-5d69-4200-aae5-3fe9e50e7ae9"
      },
      "execution_count": 15,
      "outputs": [
        {
          "output_type": "stream",
          "name": "stdout",
          "text": [
            "24544/24544 [==============================] - 197s 8ms/step - loss: 0.6519\n"
          ]
        }
      ]
    },
    {
      "cell_type": "markdown",
      "source": [
        "**Loss**"
      ],
      "metadata": {
        "id": "msOjK1GTYlGt"
      }
    },
    {
      "cell_type": "code",
      "source": [
        "train_loss= historyNN.history['loss']\n",
        "\n",
        "xepoch = range(0,len(train_loss))\n",
        "sns.lineplot(x=xepoch,y=train_loss)"
      ],
      "metadata": {
        "id": "HznREmukyyNJ"
      },
      "execution_count": null,
      "outputs": []
    },
    {
      "cell_type": "markdown",
      "source": [
        "##Evaluate Model and Predict Ratings\n",
        "\n",
        "**Dot Product**"
      ],
      "metadata": {
        "id": "9btcVzBPYvjF"
      }
    },
    {
      "cell_type": "code",
      "source": [
        "score        = model.evaluate([test.user_id, test.book_id], test.rating)\n",
        "print(\"Dot Product Score\",score)\n",
        "ratings_pred = model.predict([test.user_id.head(10), test.book_id.\n",
        "                             head(10)])\n"
      ],
      "metadata": {
        "id": "h0Jpr3GP-4HP"
      },
      "execution_count": null,
      "outputs": []
    },
    {
      "cell_type": "code",
      "source": [
        "print (\"Rating Prediction\")\n",
        "for i in range(10):\n",
        "  print (\"{:5.1f} {:5.0f}\".format(ratings_pred[i,0], test.rating.iloc[i]))"
      ],
      "metadata": {
        "id": "HwsiMriuJkHJ"
      },
      "execution_count": null,
      "outputs": []
    },
    {
      "cell_type": "markdown",
      "source": [
        "**Neural Net**"
      ],
      "metadata": {
        "id": "rLGd6CwGZJLH"
      }
    },
    {
      "cell_type": "code",
      "source": [
        "score        = model2.evaluate([test.user_id, test.book_id], test.rating)\n",
        "print(\"Neural Net\",'\\n',model2.metrics_names,score)\n",
        "ratings_pred = model2.predict([test.user_id.head(10), test.book_id.\n",
        "                             head(10)])\n",
        "print (\"Rating Prediction\")\n",
        "for i in range(10):\n",
        "  print (\"{:5.1f} {:5.0f}\".format(ratings_pred[i,0], test.rating.iloc[i]))"
      ],
      "metadata": {
        "colab": {
          "base_uri": "https://localhost:8080/"
        },
        "id": "Q485Mjuc_WvE",
        "outputId": "af751410-6dcf-4b9b-94cb-6a15a75090b9"
      },
      "execution_count": 19,
      "outputs": [
        {
          "output_type": "stream",
          "name": "stdout",
          "text": [
            "6136/6136 [==============================] - 12s 2ms/step - loss: 0.7052\n",
            "Neural Net \n",
            " ['loss'] 0.705163836479187\n",
            "Rating Prediction\n",
            "  3.2     4\n",
            "  4.6     5\n",
            "  4.4     5\n",
            "  4.3     5\n",
            "  3.1     4\n",
            "  3.8     3\n",
            "  4.6     5\n",
            "  4.7     5\n",
            "  3.6     3\n",
            "  4.4     5\n"
          ]
        }
      ]
    },
    {
      "cell_type": "markdown",
      "source": [
        "##Make Recommendations"
      ],
      "metadata": {
        "id": "payS8TcuZNcI"
      }
    },
    {
      "cell_type": "code",
      "source": [
        "#Making Recommendations\n",
        "book_data      = np.array(list(set(dataset.book_id)))\n",
        "nb             = len(book_data)\n",
        "user_test      = np.array(nb*[1])#Get recommendations for User 1 \n",
        "predict_rating = model.predict([user_test,book_data])"
      ],
      "metadata": {
        "id": "0C_0vLjuCtYb"
      },
      "execution_count": 73,
      "outputs": []
    },
    {
      "cell_type": "code",
      "source": [
        "predict_rating = predict_rating.reshape(nb)\n",
        "args = np.argsort(-predict_rating)[:10]\n",
        "print (\"Best Ratings\\n\",10*'--')\n",
        "print (\"Rating\",\"  \",\"Book ID\")\n",
        "for i in args:\n",
        "  print(\"{:6.1f}  {:6}\".format(predict_rating[i],i))"
      ],
      "metadata": {
        "colab": {
          "base_uri": "https://localhost:8080/"
        },
        "id": "lSBqkEyze43Y",
        "outputId": "fb47ff79-b155-49fb-aa3a-6e81502081b1"
      },
      "execution_count": 75,
      "outputs": [
        {
          "output_type": "stream",
          "name": "stdout",
          "text": [
            "Best Ratings\n",
            " --------------------\n",
            "Rating    Book ID\n",
            "   5.6    8945\n",
            "   4.8    7638\n",
            "   4.8    7880\n",
            "   4.7    9079\n",
            "   4.7    5211\n",
            "   4.7    9457\n",
            "   4.7    7498\n",
            "   4.6    9208\n",
            "   4.5    7946\n",
            "   4.5    4777\n"
          ]
        }
      ]
    },
    {
      "cell_type": "markdown",
      "source": [
        "**Find Book Information from books database**"
      ],
      "metadata": {
        "id": "PmPvirBuiKsf"
      }
    },
    {
      "cell_type": "code",
      "source": [
        "books = pd.read_csv('bookreco/books.csv')\n",
        "print (len(books))\n",
        "print (books.columns)\n"
      ],
      "metadata": {
        "colab": {
          "base_uri": "https://localhost:8080/"
        },
        "id": "mUCIL8lgg4IT",
        "outputId": "07d249d3-2e97-4e4f-d664-015101d8b79e"
      },
      "execution_count": 76,
      "outputs": [
        {
          "output_type": "stream",
          "name": "stdout",
          "text": [
            "10000\n",
            "Index(['id', 'book_id', 'best_book_id', 'work_id', 'books_count', 'isbn',\n",
            "       'isbn13', 'authors', 'original_publication_year', 'original_title',\n",
            "       'title', 'language_code', 'average_rating', 'ratings_count',\n",
            "       'work_ratings_count', 'work_text_reviews_count', 'ratings_1',\n",
            "       'ratings_2', 'ratings_3', 'ratings_4', 'ratings_5', 'image_url',\n",
            "       'small_image_url'],\n",
            "      dtype='object')\n"
          ]
        }
      ]
    },
    {
      "cell_type": "markdown",
      "source": [
        "**Recommendation for user 1**"
      ],
      "metadata": {
        "id": "nqXmPLG6kh0Z"
      }
    },
    {
      "cell_type": "code",
      "source": [
        "reco_books = books.loc[books['id'].isin(args),['id','authors','original_title']]#,['authors','original_title']]\n",
        "reco_books"
      ],
      "metadata": {
        "colab": {
          "base_uri": "https://localhost:8080/",
          "height": 363
        },
        "id": "3-6aT3-NiTXJ",
        "outputId": "afecc42c-e4ef-4cc3-ae3d-fb255389dc19"
      },
      "execution_count": 79,
      "outputs": [
        {
          "output_type": "execute_result",
          "data": {
            "text/plain": [
              "        id                                        authors  \\\n",
              "4776  4777                               William Faulkner   \n",
              "5210  5211                            Catherine Ryan Hyde   \n",
              "7497  7498                                    Jeff Shaara   \n",
              "7637  7638                                  Iain M. Banks   \n",
              "7879  7880                                      Meg Cabot   \n",
              "7945  7946                                     Naomi Wolf   \n",
              "8944  8945                                   Lisa Gardner   \n",
              "9078  9079                                 Gerald N. Lund   \n",
              "9207  9208                                  Scott McCloud   \n",
              "9456  9457  Natsuki Takaya, Alethea Nibley, Athena Nibley   \n",
              "\n",
              "                                         original_title  \n",
              "4776                                   A Rose for Emily  \n",
              "5210                                     Pay It Forward  \n",
              "7497                              The Last Full Measure  \n",
              "7637                                     The Algebraist  \n",
              "7879                                       Princess Mia  \n",
              "7945  The Beauty Myth: How Images of Beauty Are Used...  \n",
              "8944                                  The Next Accident  \n",
              "9078  The Work and the Glory, Vol. 2: Like a Fire Bu...  \n",
              "9207                                       The Sculptor  \n",
              "9456                                       フルーツバスケット 14  "
            ],
            "text/html": [
              "\n",
              "  <div id=\"df-1a496b2c-14ec-46e3-9abe-f6866dcf3886\">\n",
              "    <div class=\"colab-df-container\">\n",
              "      <div>\n",
              "<style scoped>\n",
              "    .dataframe tbody tr th:only-of-type {\n",
              "        vertical-align: middle;\n",
              "    }\n",
              "\n",
              "    .dataframe tbody tr th {\n",
              "        vertical-align: top;\n",
              "    }\n",
              "\n",
              "    .dataframe thead th {\n",
              "        text-align: right;\n",
              "    }\n",
              "</style>\n",
              "<table border=\"1\" class=\"dataframe\">\n",
              "  <thead>\n",
              "    <tr style=\"text-align: right;\">\n",
              "      <th></th>\n",
              "      <th>id</th>\n",
              "      <th>authors</th>\n",
              "      <th>original_title</th>\n",
              "    </tr>\n",
              "  </thead>\n",
              "  <tbody>\n",
              "    <tr>\n",
              "      <th>4776</th>\n",
              "      <td>4777</td>\n",
              "      <td>William Faulkner</td>\n",
              "      <td>A Rose for Emily</td>\n",
              "    </tr>\n",
              "    <tr>\n",
              "      <th>5210</th>\n",
              "      <td>5211</td>\n",
              "      <td>Catherine Ryan Hyde</td>\n",
              "      <td>Pay It Forward</td>\n",
              "    </tr>\n",
              "    <tr>\n",
              "      <th>7497</th>\n",
              "      <td>7498</td>\n",
              "      <td>Jeff Shaara</td>\n",
              "      <td>The Last Full Measure</td>\n",
              "    </tr>\n",
              "    <tr>\n",
              "      <th>7637</th>\n",
              "      <td>7638</td>\n",
              "      <td>Iain M. Banks</td>\n",
              "      <td>The Algebraist</td>\n",
              "    </tr>\n",
              "    <tr>\n",
              "      <th>7879</th>\n",
              "      <td>7880</td>\n",
              "      <td>Meg Cabot</td>\n",
              "      <td>Princess Mia</td>\n",
              "    </tr>\n",
              "    <tr>\n",
              "      <th>7945</th>\n",
              "      <td>7946</td>\n",
              "      <td>Naomi Wolf</td>\n",
              "      <td>The Beauty Myth: How Images of Beauty Are Used...</td>\n",
              "    </tr>\n",
              "    <tr>\n",
              "      <th>8944</th>\n",
              "      <td>8945</td>\n",
              "      <td>Lisa Gardner</td>\n",
              "      <td>The Next Accident</td>\n",
              "    </tr>\n",
              "    <tr>\n",
              "      <th>9078</th>\n",
              "      <td>9079</td>\n",
              "      <td>Gerald N. Lund</td>\n",
              "      <td>The Work and the Glory, Vol. 2: Like a Fire Bu...</td>\n",
              "    </tr>\n",
              "    <tr>\n",
              "      <th>9207</th>\n",
              "      <td>9208</td>\n",
              "      <td>Scott McCloud</td>\n",
              "      <td>The Sculptor</td>\n",
              "    </tr>\n",
              "    <tr>\n",
              "      <th>9456</th>\n",
              "      <td>9457</td>\n",
              "      <td>Natsuki Takaya, Alethea Nibley, Athena Nibley</td>\n",
              "      <td>フルーツバスケット 14</td>\n",
              "    </tr>\n",
              "  </tbody>\n",
              "</table>\n",
              "</div>\n",
              "      <button class=\"colab-df-convert\" onclick=\"convertToInteractive('df-1a496b2c-14ec-46e3-9abe-f6866dcf3886')\"\n",
              "              title=\"Convert this dataframe to an interactive table.\"\n",
              "              style=\"display:none;\">\n",
              "        \n",
              "  <svg xmlns=\"http://www.w3.org/2000/svg\" height=\"24px\"viewBox=\"0 0 24 24\"\n",
              "       width=\"24px\">\n",
              "    <path d=\"M0 0h24v24H0V0z\" fill=\"none\"/>\n",
              "    <path d=\"M18.56 5.44l.94 2.06.94-2.06 2.06-.94-2.06-.94-.94-2.06-.94 2.06-2.06.94zm-11 1L8.5 8.5l.94-2.06 2.06-.94-2.06-.94L8.5 2.5l-.94 2.06-2.06.94zm10 10l.94 2.06.94-2.06 2.06-.94-2.06-.94-.94-2.06-.94 2.06-2.06.94z\"/><path d=\"M17.41 7.96l-1.37-1.37c-.4-.4-.92-.59-1.43-.59-.52 0-1.04.2-1.43.59L10.3 9.45l-7.72 7.72c-.78.78-.78 2.05 0 2.83L4 21.41c.39.39.9.59 1.41.59.51 0 1.02-.2 1.41-.59l7.78-7.78 2.81-2.81c.8-.78.8-2.07 0-2.86zM5.41 20L4 18.59l7.72-7.72 1.47 1.35L5.41 20z\"/>\n",
              "  </svg>\n",
              "      </button>\n",
              "      \n",
              "  <style>\n",
              "    .colab-df-container {\n",
              "      display:flex;\n",
              "      flex-wrap:wrap;\n",
              "      gap: 12px;\n",
              "    }\n",
              "\n",
              "    .colab-df-convert {\n",
              "      background-color: #E8F0FE;\n",
              "      border: none;\n",
              "      border-radius: 50%;\n",
              "      cursor: pointer;\n",
              "      display: none;\n",
              "      fill: #1967D2;\n",
              "      height: 32px;\n",
              "      padding: 0 0 0 0;\n",
              "      width: 32px;\n",
              "    }\n",
              "\n",
              "    .colab-df-convert:hover {\n",
              "      background-color: #E2EBFA;\n",
              "      box-shadow: 0px 1px 2px rgba(60, 64, 67, 0.3), 0px 1px 3px 1px rgba(60, 64, 67, 0.15);\n",
              "      fill: #174EA6;\n",
              "    }\n",
              "\n",
              "    [theme=dark] .colab-df-convert {\n",
              "      background-color: #3B4455;\n",
              "      fill: #D2E3FC;\n",
              "    }\n",
              "\n",
              "    [theme=dark] .colab-df-convert:hover {\n",
              "      background-color: #434B5C;\n",
              "      box-shadow: 0px 1px 3px 1px rgba(0, 0, 0, 0.15);\n",
              "      filter: drop-shadow(0px 1px 2px rgba(0, 0, 0, 0.3));\n",
              "      fill: #FFFFFF;\n",
              "    }\n",
              "  </style>\n",
              "\n",
              "      <script>\n",
              "        const buttonEl =\n",
              "          document.querySelector('#df-1a496b2c-14ec-46e3-9abe-f6866dcf3886 button.colab-df-convert');\n",
              "        buttonEl.style.display =\n",
              "          google.colab.kernel.accessAllowed ? 'block' : 'none';\n",
              "\n",
              "        async function convertToInteractive(key) {\n",
              "          const element = document.querySelector('#df-1a496b2c-14ec-46e3-9abe-f6866dcf3886');\n",
              "          const dataTable =\n",
              "            await google.colab.kernel.invokeFunction('convertToInteractive',\n",
              "                                                     [key], {});\n",
              "          if (!dataTable) return;\n",
              "\n",
              "          const docLinkHtml = 'Like what you see? Visit the ' +\n",
              "            '<a target=\"_blank\" href=https://colab.research.google.com/notebooks/data_table.ipynb>data table notebook</a>'\n",
              "            + ' to learn more about interactive tables.';\n",
              "          element.innerHTML = '';\n",
              "          dataTable['output_type'] = 'display_data';\n",
              "          await google.colab.output.renderOutput(dataTable, element);\n",
              "          const docLink = document.createElement('div');\n",
              "          docLink.innerHTML = docLinkHtml;\n",
              "          element.appendChild(docLink);\n",
              "        }\n",
              "      </script>\n",
              "    </div>\n",
              "  </div>\n",
              "  "
            ]
          },
          "metadata": {},
          "execution_count": 79
        }
      ]
    },
    {
      "cell_type": "markdown",
      "source": [
        "##References\n",
        "1. Based on Book Recommedation System shown [here](https://www.kaggle.com/code/tannergi/book-recommendation-system)."
      ],
      "metadata": {
        "id": "HhIhemBnNzcc"
      }
    },
    {
      "cell_type": "code",
      "source": [
        ""
      ],
      "metadata": {
        "id": "_8yqRBXDVvTS"
      },
      "execution_count": null,
      "outputs": []
    }
  ],
  "metadata": {
    "colab": {
      "collapsed_sections": [],
      "name": "BookRecommendation.ipynb",
      "provenance": []
    },
    "kernelspec": {
      "display_name": "Python 3",
      "name": "python3"
    },
    "language_info": {
      "name": "python"
    }
  },
  "nbformat": 4,
  "nbformat_minor": 0
}