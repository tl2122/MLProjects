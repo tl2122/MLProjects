{
  "nbformat": 4,
  "nbformat_minor": 0,
  "metadata": {
    "colab": {
      "name": "MBTI_Classification.ipynb",
      "provenance": [],
      "collapsed_sections": [],
      "toc_visible": true
    },
    "kernelspec": {
      "name": "python3",
      "display_name": "Python 3"
    },
    "language_info": {
      "name": "python"
    }
  },
  "cells": [
    {
      "cell_type": "markdown",
      "source": [
        "#MTBI Analysis\n",
        "\n",
        "##Introduction\n",
        "In this analysis, a Meyers-Briggs Classification is performed based on the comment posts found on the internet. The data was imported from [kaggle.com](kaggle.com/datasets/datasnaek/mbti-type), with labels, processed using RNN with Gated Reccurrent Units (GRU)."
      ],
      "metadata": {
        "id": "7LDV9cMd70-E"
      }
    },
    {
      "cell_type": "code",
      "execution_count": null,
      "metadata": {
        "id": "-bqyYwJUWdFf"
      },
      "outputs": [],
      "source": [
        "import numpy as np\n",
        "import pandas as pd\n",
        "import matplotlib.pyplot as plt\n",
        "import pdb"
      ]
    },
    {
      "cell_type": "code",
      "source": [
        "from google.colab import drive\n",
        "drive.mount('/gdrive')\n",
        "%cd /gdrive"
      ],
      "metadata": {
        "id": "reGMExElqZNq",
        "colab": {
          "base_uri": "https://localhost:8080/"
        },
        "outputId": "30565548-0861-4eff-cde7-a28019d18fd0"
      },
      "execution_count": null,
      "outputs": [
        {
          "output_type": "stream",
          "name": "stdout",
          "text": [
            "Drive already mounted at /gdrive; to attempt to forcibly remount, call drive.mount(\"/gdrive\", force_remount=True).\n",
            "/gdrive\n"
          ]
        }
      ]
    },
    {
      "cell_type": "code",
      "source": [
        "%ls *"
      ],
      "metadata": {
        "colab": {
          "base_uri": "https://localhost:8080/"
        },
        "id": "k_IrV5kPQWP7",
        "outputId": "6cd4eec9-5dab-4cff-948d-81f68b57743f"
      },
      "execution_count": null,
      "outputs": [
        {
          "output_type": "stream",
          "name": "stdout",
          "text": [
            "\u001b[0m\u001b[01;34m'Colab Notebooks'\u001b[0m/   \u001b[01;34mMLData\u001b[0m/   \u001b[01;34mmodules\u001b[0m/\n"
          ]
        }
      ]
    },
    {
      "cell_type": "code",
      "source": [
        "import sys\n",
        "sys.path.append('MyDrive')\n",
        "sys.path.append(\"MyDrive/modules\")\n",
        "print (sys.path)\n"
      ],
      "metadata": {
        "colab": {
          "base_uri": "https://localhost:8080/"
        },
        "id": "-X-_Rwz7NdGD",
        "outputId": "e8246e90-227b-499f-c7dd-c01eaa89ec18"
      },
      "execution_count": null,
      "outputs": [
        {
          "output_type": "stream",
          "name": "stdout",
          "text": [
            "['', '/content', '/env/python', '/usr/lib/python37.zip', '/usr/lib/python3.7', '/usr/lib/python3.7/lib-dynload', '/usr/local/lib/python3.7/dist-packages', '/usr/lib/python3/dist-packages', '/usr/local/lib/python3.7/dist-packages/IPython/extensions', '/root/.ipython', 'MyDrive', 'MyDrive/modules']\n"
          ]
        }
      ]
    },
    {
      "cell_type": "code",
      "source": [
        "from mbti_utils import *\n",
        "# %load_ext autoreload\n",
        "# %autoreload 2"
      ],
      "metadata": {
        "id": "Vcnrl3HuMjIn",
        "colab": {
          "base_uri": "https://localhost:8080/"
        },
        "outputId": "14d9c744-3cbd-4705-fd79-937da71d0a0e"
      },
      "execution_count": null,
      "outputs": [
        {
          "output_type": "stream",
          "name": "stdout",
          "text": [
            "[nltk_data] Downloading package stopwords to /root/nltk_data...\n",
            "[nltk_data]   Package stopwords is already up-to-date!\n"
          ]
        }
      ]
    },
    {
      "cell_type": "markdown",
      "source": [
        "##Preprocessing"
      ],
      "metadata": {
        "id": "Uc-ck_HVR91z"
      }
    },
    {
      "cell_type": "code",
      "source": [
        "#Input\n",
        "dataset =pd.read_csv(\"MyDrive/MLData/mbti_1.csv\")\n",
        "print('\\n\\n')\n",
        "print(dataset.head(),'\\n')\n",
        "print(dataset.info(),'\\n')\n",
        "\n",
        "#Get Uniques Labels\n",
        "unq_types = pd.unique(dataset['type'])\n",
        "grouped_dt= dataset.groupby(['type']).size().reset_index()\n",
        "grouped_dt.columns = ['type','Count']\n",
        "grouped_dt = grouped_dt.sort_values('Count',ascending=True)\n",
        "print(\"Uniques Labels:\",len(unq_types),'\\n',unq_types)"
      ],
      "metadata": {
        "id": "gdUAiH7oW8-w",
        "colab": {
          "base_uri": "https://localhost:8080/"
        },
        "outputId": "290a70fc-1a22-4e6b-da82-34ee6654ac73"
      },
      "execution_count": null,
      "outputs": [
        {
          "output_type": "stream",
          "name": "stdout",
          "text": [
            "\n",
            "\n",
            "\n",
            "   type                                              posts\n",
            "0  INFJ  'http://www.youtube.com/watch?v=qsXHcwe3krw|||...\n",
            "1  ENTP  'I'm finding the lack of me in these posts ver...\n",
            "2  INTP  'Good one  _____   https://www.youtube.com/wat...\n",
            "3  INTJ  'Dear INTP,   I enjoyed our conversation the o...\n",
            "4  ENTJ  'You're fired.|||That's another silly misconce... \n",
            "\n",
            "<class 'pandas.core.frame.DataFrame'>\n",
            "RangeIndex: 8675 entries, 0 to 8674\n",
            "Data columns (total 2 columns):\n",
            " #   Column  Non-Null Count  Dtype \n",
            "---  ------  --------------  ----- \n",
            " 0   type    8675 non-null   object\n",
            " 1   posts   8675 non-null   object\n",
            "dtypes: object(2)\n",
            "memory usage: 135.7+ KB\n",
            "None \n",
            "\n",
            "Uniques Labels: 16 \n",
            " ['INFJ' 'ENTP' 'INTP' 'INTJ' 'ENTJ' 'ENFJ' 'INFP' 'ENFP' 'ISFP' 'ISTP'\n",
            " 'ISFJ' 'ISTJ' 'ESTP' 'ESFP' 'ESTJ' 'ESFJ']\n"
          ]
        }
      ]
    },
    {
      "cell_type": "markdown",
      "source": [
        "Here, Data contains 16 unique labels. ***We have performed a 16 class classification, as well as a simplified binary classification between introvert and extrovert***. This is useful because\n",
        "1. number of comments in each category are not equal and many classes contain few comments, compared to a larger introvert/extrovert category \n",
        "\n",
        "2. simplified categories are easier to understand than the specialized ones.\n",
        "\n"
      ],
      "metadata": {
        "id": "bibBiVJ3-M-g"
      }
    },
    {
      "cell_type": "markdown",
      "source": [
        "###Hyperparameters"
      ],
      "metadata": {
        "id": "jUgLxq1WdEVU"
      }
    },
    {
      "cell_type": "code",
      "source": [
        "#Hyperparameters\n",
        "vocab_size    = 10000\n",
        "nlabels       = len(unq_types)\n",
        "embedding_dim = 128\n",
        "gru_units     = 128\n",
        "nepochs       = 3"
      ],
      "metadata": {
        "id": "5Af5ngcmTD6k"
      },
      "execution_count": null,
      "outputs": []
    },
    {
      "cell_type": "markdown",
      "source": [
        "**Convert the sentences -> words -> useful words vectors (tokens)**"
      ],
      "metadata": {
        "id": "nnGRR21TAbf8"
      }
    },
    {
      "cell_type": "code",
      "source": [
        "#Get Posts\n",
        "posts,labels,labels_dict = getPosts(dataset)\n",
        "posts = posts  [::20]\n",
        "labels= labels [::20]\n",
        "#Tokenize\n",
        "posts_tk, max_seq \\\n",
        "         = tokenize(posts,vocab_size=vocab_size)\n",
        "labels_tk= np.array([labels_dict[i] for i in labels])\n",
        "l_tmp = []\n",
        "for i in labels:\n",
        "    if i[0]=='E': l_tmp.append(0)\n",
        "    if i[0]=='I': l_tmp.append(1)\n",
        "    else        : assert(\"Wrong Label\")\n",
        "labels_binary = np.array(l_tmp)\n",
        "print (\"Posts  shape:\", posts_tk.shape)\n",
        "print (\"Labels shape:\",labels_tk.shape,labels_binary.shape)\n",
        "print(10*\"--\")"
      ],
      "metadata": {
        "id": "YnYAIyXUdOQ1",
        "colab": {
          "base_uri": "https://localhost:8080/"
        },
        "outputId": "789194ff-18cc-42f7-f9a7-b2b4061bf623"
      },
      "execution_count": null,
      "outputs": [
        {
          "output_type": "stream",
          "name": "stdout",
          "text": [
            "411188 posts added.\n",
            "Starting tokenizer\n",
            "-------------------- \n",
            " Max Sequence Length 199\n",
            "Median Sequence Length 107.0\n",
            "Vocab Size 10000\n",
            "41119 tokenized\n",
            "Posts  shape: (41119, 199)\n",
            "Labels shape: (41119,) (41119,)\n",
            "--------------------\n"
          ]
        }
      ]
    },
    {
      "cell_type": "code",
      "source": [
        "#Plot Class Occ\n",
        "plt.bar(grouped_dt.type,grouped_dt.Count)\n",
        "plt.xticks(rotation=30,ha='right')"
      ],
      "metadata": {
        "id": "--6J50d7Ziz-",
        "colab": {
          "base_uri": "https://localhost:8080/",
          "height": 313
        },
        "outputId": "7ec6e698-d2c7-4bf7-e76a-ae57b98285d9"
      },
      "execution_count": null,
      "outputs": [
        {
          "output_type": "execute_result",
          "data": {
            "text/plain": [
              "([0, 1, 2, 3, 4, 5, 6, 7, 8, 9, 10, 11, 12, 13, 14, 15],\n",
              " <a list of 16 Text major ticklabel objects>)"
            ]
          },
          "metadata": {},
          "execution_count": 24
        },
        {
          "output_type": "display_data",
          "data": {
            "text/plain": [
              "<Figure size 432x288 with 1 Axes>"
            ],
            "image/png": "[encoded data removed]"
          },
          "metadata": {
            "needs_background": "light"
          }
        }
      ]
    },
    {
      "cell_type": "markdown",
      "source": [
        "**Uneven observation across classes (above)**"
      ],
      "metadata": {
        "id": "3zjB-OclGQTw"
      }
    },
    {
      "cell_type": "code",
      "source": [
        "#Plot Text Lengths\n",
        "plt.hist([len(i) for i in posts], bins=100)"
      ],
      "metadata": {
        "colab": {
          "base_uri": "https://localhost:8080/",
          "height": 820
        },
        "id": "wFAd20szgjmI",
        "outputId": "1d902df4-567c-41e1-995e-ad071e514c91"
      },
      "execution_count": null,
      "outputs": [
        {
          "output_type": "execute_result",
          "data": {
            "text/plain": [
              "(array([1.030e+02, 3.060e+02, 3.750e+02, 2.600e+02, 3.660e+02, 3.710e+02,\n",
              "        4.140e+02, 4.240e+02, 4.250e+02, 4.300e+02, 4.280e+02, 4.290e+02,\n",
              "        4.270e+02, 4.060e+02, 4.320e+02, 4.380e+02, 4.110e+02, 4.180e+02,\n",
              "        3.880e+02, 3.890e+02, 3.830e+02, 3.870e+02, 3.640e+02, 3.600e+02,\n",
              "        3.730e+02, 3.380e+02, 3.370e+02, 3.350e+02, 3.450e+02, 3.530e+02,\n",
              "        3.160e+02, 3.220e+02, 3.040e+02, 2.990e+02, 3.190e+02, 2.850e+02,\n",
              "        2.750e+02, 3.000e+02, 2.690e+02, 2.920e+02, 2.920e+02, 3.040e+02,\n",
              "        2.820e+02, 3.150e+02, 3.370e+02, 3.600e+02, 3.820e+02, 4.040e+02,\n",
              "        5.390e+02, 2.390e+02, 6.280e+02, 6.720e+02, 7.640e+02, 9.230e+02,\n",
              "        1.043e+03, 1.143e+03, 1.182e+03, 1.296e+03, 1.347e+03, 1.411e+03,\n",
              "        1.402e+03, 1.389e+03, 1.304e+03, 1.258e+03, 1.190e+03, 1.100e+03,\n",
              "        9.500e+02, 8.650e+02, 7.120e+02, 6.180e+02, 4.380e+02, 4.000e+02,\n",
              "        3.120e+02, 2.440e+02, 2.170e+02, 1.460e+02, 1.020e+02, 6.400e+01,\n",
              "        6.800e+01, 5.300e+01, 4.400e+01, 3.600e+01, 2.300e+01, 2.200e+01,\n",
              "        2.400e+01, 1.000e+01, 9.000e+00, 9.000e+00, 1.000e+01, 7.000e+00,\n",
              "        3.000e+00, 8.000e+00, 5.000e+00, 5.000e+00, 5.000e+00, 1.000e+00,\n",
              "        6.000e+00, 0.000e+00, 0.000e+00, 1.000e+00]),\n",
              " array([  1.  ,   2.98,   4.96,   6.94,   8.92,  10.9 ,  12.88,  14.86,\n",
              "         16.84,  18.82,  20.8 ,  22.78,  24.76,  26.74,  28.72,  30.7 ,\n",
              "         32.68,  34.66,  36.64,  38.62,  40.6 ,  42.58,  44.56,  46.54,\n",
              "         48.52,  50.5 ,  52.48,  54.46,  56.44,  58.42,  60.4 ,  62.38,\n",
              "         64.36,  66.34,  68.32,  70.3 ,  72.28,  74.26,  76.24,  78.22,\n",
              "         80.2 ,  82.18,  84.16,  86.14,  88.12,  90.1 ,  92.08,  94.06,\n",
              "         96.04,  98.02, 100.  , 101.98, 103.96, 105.94, 107.92, 109.9 ,\n",
              "        111.88, 113.86, 115.84, 117.82, 119.8 , 121.78, 123.76, 125.74,\n",
              "        127.72, 129.7 , 131.68, 133.66, 135.64, 137.62, 139.6 , 141.58,\n",
              "        143.56, 145.54, 147.52, 149.5 , 151.48, 153.46, 155.44, 157.42,\n",
              "        159.4 , 161.38, 163.36, 165.34, 167.32, 169.3 , 171.28, 173.26,\n",
              "        175.24, 177.22, 179.2 , 181.18, 183.16, 185.14, 187.12, 189.1 ,\n",
              "        191.08, 193.06, 195.04, 197.02, 199.  ]),\n",
              " <a list of 100 Patch objects>)"
            ]
          },
          "metadata": {},
          "execution_count": 25
        },
        {
          "output_type": "display_data",
          "data": {
            "text/plain": [
              "<Figure size 432x288 with 1 Axes>"
            ],
            "image/png": "[encoded data removed]"
          },
          "metadata": {
            "needs_background": "light"
          }
        }
      ]
    },
    {
      "cell_type": "markdown",
      "source": [
        "##Train Test Datasets\n",
        "\n",
        "**The tokenized data is converted into useful embeddings and passed to GRU model defined in `mtbi_utils.py`. Two models are tested: multi-class model and binary model.**"
      ],
      "metadata": {
        "id": "M4HxZsH6YyZB"
      }
    },
    {
      "cell_type": "code",
      "source": [
        "#Train Test Datasets\n",
        "from sklearn.model_selection import train_test_split\n",
        "#Binary classification I vs E\n",
        "train_X, test_X, train_y, test_y = train_test_split(\\\n",
        "                                posts_tk, labels_binary, test_size=0.2,random_state=0)\n",
        "#Multi-class - 16 classes\n",
        "train_X_2, test_X_2, train_y_2, test_y_2 = train_test_split(\\\n",
        "                                posts_tk, labels_tk, test_size=0.2,random_state=0)\n",
        "\n",
        "#Model Binary Classification \n",
        "model = makeModel(vocab_size,max_seq,embedding_dim,gru_units)\n",
        "model.compile(\n",
        "        optimizer='adam',\n",
        "        loss     ='binary_crossentropy',\n",
        "        metrics  = ['accuracy',tf.keras.metrics.AUC(name='auc')]\n",
        ")\n",
        "history_binary = model.fit(train_X,train_y,\n",
        "                    validation_split= 0.2,\n",
        "                    batch_size      = 32,\n",
        "                    epochs          = nepochs,\n",
        "            )"
      ],
      "metadata": {
        "id": "0yw6GYioXE0X",
        "colab": {
          "base_uri": "https://localhost:8080/"
        },
        "outputId": "cccfad2f-2523-47c2-fa6d-0b31a5579979"
      },
      "execution_count": null,
      "outputs": [
        {
          "output_type": "stream",
          "name": "stdout",
          "text": [
            "Epoch 1/3\n",
            "823/823 [==============================] - 322s 386ms/step - loss: 0.5513 - accuracy: 0.7647 - auc: 0.5054 - val_loss: 0.5396 - val_accuracy: 0.7696 - val_auc: 0.5052\n",
            "Epoch 2/3\n",
            "823/823 [==============================] - 321s 390ms/step - loss: 0.5481 - accuracy: 0.7655 - auc: 0.5067 - val_loss: 0.5616 - val_accuracy: 0.7697 - val_auc: 0.5074\n",
            "Epoch 3/3\n",
            "823/823 [==============================] - 313s 381ms/step - loss: 0.5462 - accuracy: 0.7654 - auc: 0.5173 - val_loss: 0.5424 - val_accuracy: 0.7697 - val_auc: 0.5016\n"
          ]
        }
      ]
    },
    {
      "cell_type": "code",
      "source": [
        "#Model2 - Multi-class classification\n",
        "model2 = makeModel(vocab_size,max_seq,embedding_dim, gru_units, makeBinary=False)\n",
        "model2.compile(\n",
        "                optimizer='adam',\n",
        "                loss     ='categorical_crossentropy',\n",
        "                metrics  = ['accuracy',tf.keras.metrics.AUC(name='auc')]\n",
        ")\n",
        "\n",
        "train_y_2_1h = convert_to_one_hot(train_y_2,nlabels)\n",
        "history_multiclass = model2.fit(train_X_2,train_y_2_1h,\n",
        "                        validation_split = 0.2,\n",
        "                        batch_size       =  32,\n",
        "                        epochs           =  nepochs,\n",
        "            )\n"
      ],
      "metadata": {
        "id": "RkyREYbxXKjB",
        "colab": {
          "base_uri": "https://localhost:8080/"
        },
        "outputId": "9b58aca2-4e3b-420f-d3fd-8a7223ea0c90"
      },
      "execution_count": null,
      "outputs": [
        {
          "output_type": "stream",
          "name": "stdout",
          "text": [
            "[1 1 0 ... 3 6 0]\n",
            "16\n",
            "Epoch 1/3\n",
            "823/823 [==============================] - 324s 388ms/step - loss: 2.3070 - accuracy: 0.1980 - auc: 0.7817 - val_loss: 2.3139 - val_accuracy: 0.1716 - val_auc: 0.7811\n",
            "Epoch 2/3\n",
            "823/823 [==============================] - 318s 386ms/step - loss: 2.2941 - accuracy: 0.2020 - auc: 0.7846 - val_loss: 2.2954 - val_accuracy: 0.2082 - val_auc: 0.7843\n",
            "Epoch 3/3\n",
            "823/823 [==============================] - 316s 384ms/step - loss: 2.2886 - accuracy: 0.2033 - auc: 0.7857 - val_loss: 2.3086 - val_accuracy: 0.2017 - val_auc: 0.7816\n"
          ]
        }
      ]
    },
    {
      "cell_type": "markdown",
      "source": [
        "##Plot"
      ],
      "metadata": {
        "id": "segabBwlhPNm"
      }
    },
    {
      "cell_type": "code",
      "source": [
        "import seaborn as sns \n",
        "train_loss= history_binary.history['loss']\n",
        "train_acc = history_binary.history['accuracy']\n",
        "val_loss  = history_binary.history['val_loss']\n",
        "val_acc   = history_binary.history['val_accuracy']\n",
        "\n",
        "xepoch = range(0,len(train_loss))\n",
        "sns.lineplot(x=xepoch,y=train_loss)\n",
        "sns.lineplot(x=xepoch,y=val_loss)"
      ],
      "metadata": {
        "id": "rLI0R1qihRLA",
        "outputId": "91c7da49-fa90-4c77-d3ff-2d1265dc3b05",
        "colab": {
          "base_uri": "https://localhost:8080/",
          "height": 283
        }
      },
      "execution_count": null,
      "outputs": [
        {
          "output_type": "execute_result",
          "data": {
            "text/plain": [
              "<matplotlib.axes._subplots.AxesSubplot at 0x7f8d6c857e10>"
            ]
          },
          "metadata": {},
          "execution_count": 28
        },
        {
          "output_type": "display_data",
          "data": {
            "text/plain": [
              "<Figure size 432x288 with 1 Axes>"
            ],
            "image/png": "[encoded data removed]"
          },
          "metadata": {
            "needs_background": "light"
          }
        }
      ]
    },
    {
      "cell_type": "code",
      "source": [
        "sns.lineplot(x=xepoch,y=train_acc)\n",
        "sns.lineplot(x=xepoch,y=val_acc)"
      ],
      "metadata": {
        "id": "ftYPo8ZghuPK",
        "colab": {
          "base_uri": "https://localhost:8080/",
          "height": 283
        },
        "outputId": "2c8c4f8b-be1b-468d-a438-dc9223003357"
      },
      "execution_count": null,
      "outputs": [
        {
          "output_type": "execute_result",
          "data": {
            "text/plain": [
              "<matplotlib.axes._subplots.AxesSubplot at 0x7f8d6522a690>"
            ]
          },
          "metadata": {},
          "execution_count": 29
        },
        {
          "output_type": "display_data",
          "data": {
            "text/plain": [
              "<Figure size 432x288 with 1 Axes>"
            ],
            "image/png": "[encoded data removed]"
          },
          "metadata": {
            "needs_background": "light"
          }
        }
      ]
    },
    {
      "cell_type": "markdown",
      "source": [
        "# Conclusions\n",
        "1. A range of vocabulary sizes for tokenization, embedding sizes, and gru units were tested. We found that vocab \\~ 10000, and embedding and gru units \\~100 were sufficient.\n",
        "2. A multi-class model does not perform well with accuracy around 20\\%. A simpler binary classifier works better at nearly 80\\% accuracy. \n",
        "3. Adding epochs and gru units did not improve result, which shows the limit of applying this model to the problem."
      ],
      "metadata": {
        "id": "45DUZgcVCorv"
      }
    }
  ]
}