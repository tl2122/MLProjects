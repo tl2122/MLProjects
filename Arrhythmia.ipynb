{
  "nbformat": 4,
  "nbformat_minor": 0,
  "metadata": {
    "colab": {
      "name": "Arrhythmia.ipynb",
      "provenance": [],
      "collapsed_sections": []
    },
    "kernelspec": {
      "name": "python3",
      "display_name": "Python 3"
    },
    "language_info": {
      "name": "python"
    }
  },
  "cells": [
    {
      "cell_type": "markdown",
      "source": [
        "#Arrhythmia\n",
        "\n",
        "In this analysis, we look at detailed dataset of electrocardiogram readings, and distinguish between the presence or absence of arrhythmia, and classify \n",
        "it into one of 16 sub-groups. The dataset and the class descriptions are available at the souce website: [ics.uci.edu](https://archive.ics.uci.edu/ml/datasets/Arrhythmia)"
      ],
      "metadata": {
        "id": "mcVtsQu0uzLV"
      }
    },
    {
      "cell_type": "code",
      "execution_count": null,
      "metadata": {
        "colab": {
          "base_uri": "https://localhost:8080/"
        },
        "id": "ecxf4spNvUJ_",
        "outputId": "b345fe6f-3231-43c1-e53f-8f0c92be5d50"
      },
      "outputs": [
        {
          "output_type": "stream",
          "name": "stdout",
          "text": [
            "Drive already mounted at /gdrive; to attempt to forcibly remount, call drive.mount(\"/gdrive\", force_remount=True).\n",
            "/gdrive\n"
          ]
        }
      ],
      "source": [
        "from google.colab import drive\n",
        "drive.mount('/gdrive')\n",
        "%cd /gdrive"
      ]
    },
    {
      "cell_type": "markdown",
      "source": [
        "**Import Libs**"
      ],
      "metadata": {
        "id": "9gBGJ1Dwv1b2"
      }
    },
    {
      "cell_type": "code",
      "source": [
        "from scipy.stats import mode\n",
        "import pandas as pd\n",
        "import numpy as np\n",
        "import matplotlib.pyplot as plt\n",
        "import seaborn as sns\n",
        "from sklearn.preprocessing import LabelEncoder\n",
        "from sklearn.model_selection import train_test_split, cross_val_score\n",
        "from sklearn.svm import SVC\n",
        "from sklearn.naive_bayes import GaussianNB\n",
        "from sklearn.ensemble import RandomForestClassifier, GradientBoostingClassifier\n",
        "from sklearn.neighbors import KNeighborsClassifier  \n",
        "from sklearn.neural_network import MLPClassifier\n",
        "from sklearn.metrics import accuracy_score, confusion_matrix\n",
        "%matplotlib inline"
      ],
      "metadata": {
        "id": "1XjZeltsvxUS"
      },
      "execution_count": null,
      "outputs": []
    },
    {
      "cell_type": "markdown",
      "source": [
        "**Data contains 452 observations, each with 280 variables.** Most variables are categorical (integer) and continuous (float) variables respectively. The five object variables are examined ahead.Variable names are provided in the source website."
      ],
      "metadata": {
        "id": "VqByME2Dw69_"
      }
    },
    {
      "cell_type": "code",
      "source": [
        "data  = pd.read_csv('MyDrive/MLData/Arrhythmia/arrhythmia.data',header=None) \n",
        "print (data.info())"
      ],
      "metadata": {
        "id": "r2RbCgOZvfrZ",
        "colab": {
          "base_uri": "https://localhost:8080/"
        },
        "outputId": "91379d8b-7652-42cc-f522-acdf2c42f4d7"
      },
      "execution_count": null,
      "outputs": [
        {
          "output_type": "stream",
          "name": "stdout",
          "text": [
            "<class 'pandas.core.frame.DataFrame'>\n",
            "RangeIndex: 452 entries, 0 to 451\n",
            "Columns: 280 entries, 0 to 279\n",
            "dtypes: float64(120), int64(155), object(5)\n",
            "memory usage: 988.9+ KB\n",
            "None\n"
          ]
        }
      ]
    },
    {
      "cell_type": "markdown",
      "source": [
        "**Check Weight (kg)**"
      ],
      "metadata": {
        "id": "MI9YXUxSxgaX"
      }
    },
    {
      "cell_type": "code",
      "source": [
        "plt_ = plt.hist(data.iloc[:,3],bins=20)"
      ],
      "metadata": {
        "colab": {
          "base_uri": "https://localhost:8080/",
          "height": 265
        },
        "id": "Cqfv9gKevojU",
        "outputId": "250460f0-1ad4-460c-f059-92021f2a06cc"
      },
      "execution_count": null,
      "outputs": [
        {
          "output_type": "display_data",
          "data": {
            "text/plain": [
              "<Figure size 432x288 with 1 Axes>"
            ],
            "image/png": "[encoded data removed]"
          },
          "metadata": {
            "needs_background": "light"
          }
        }
      ]
    },
    {
      "cell_type": "markdown",
      "source": [
        "**Examine the object type variables.**\n",
        "Columns 10-13 represent vector angles in degrees on front plane of different components of the cardiogram (q, r, s, t, p). And, 14 contains the heart rate.  Some readings contain null values, filled with '?'. This data cannot be included with the null values into ML model."
      ],
      "metadata": {
        "id": "FkXdoLc1ySSG"
      }
    },
    {
      "cell_type": "code",
      "source": [
        "data.select_dtypes(include=[object]).iloc[0:5,:]\n",
        "#Vector angles in degrees on front plane of:, linear\n",
        "#10 T, 11 P, 12 QRST, 13 J, 14 HRate"
      ],
      "metadata": {
        "colab": {
          "base_uri": "https://localhost:8080/",
          "height": 206
        },
        "id": "A3jMR__5WKht",
        "outputId": "87774bc3-01a6-4b5e-c267-cec07c39a69c"
      },
      "execution_count": null,
      "outputs": [
        {
          "output_type": "execute_result",
          "data": {
            "text/plain": [
              "   10   11  12  13  14\n",
              "0  13   64  -2   ?  63\n",
              "1  37  -17  31   ?  53\n",
              "2  34   70  66  23  75\n",
              "3  11   -5  20   ?  71\n",
              "4  13   61   3   ?   ?"
            ],
            "text/html": [
              "\n",
              "  <div id=\"df-43202604-1d26-432c-96ea-92f4309ac0c1\">\n",
              "    <div class=\"colab-df-container\">\n",
              "      <div>\n",
              "<style scoped>\n",
              "    .dataframe tbody tr th:only-of-type {\n",
              "        vertical-align: middle;\n",
              "    }\n",
              "\n",
              "    .dataframe tbody tr th {\n",
              "        vertical-align: top;\n",
              "    }\n",
              "\n",
              "    .dataframe thead th {\n",
              "        text-align: right;\n",
              "    }\n",
              "</style>\n",
              "<table border=\"1\" class=\"dataframe\">\n",
              "  <thead>\n",
              "    <tr style=\"text-align: right;\">\n",
              "      <th></th>\n",
              "      <th>10</th>\n",
              "      <th>11</th>\n",
              "      <th>12</th>\n",
              "      <th>13</th>\n",
              "      <th>14</th>\n",
              "    </tr>\n",
              "  </thead>\n",
              "  <tbody>\n",
              "    <tr>\n",
              "      <th>0</th>\n",
              "      <td>13</td>\n",
              "      <td>64</td>\n",
              "      <td>-2</td>\n",
              "      <td>?</td>\n",
              "      <td>63</td>\n",
              "    </tr>\n",
              "    <tr>\n",
              "      <th>1</th>\n",
              "      <td>37</td>\n",
              "      <td>-17</td>\n",
              "      <td>31</td>\n",
              "      <td>?</td>\n",
              "      <td>53</td>\n",
              "    </tr>\n",
              "    <tr>\n",
              "      <th>2</th>\n",
              "      <td>34</td>\n",
              "      <td>70</td>\n",
              "      <td>66</td>\n",
              "      <td>23</td>\n",
              "      <td>75</td>\n",
              "    </tr>\n",
              "    <tr>\n",
              "      <th>3</th>\n",
              "      <td>11</td>\n",
              "      <td>-5</td>\n",
              "      <td>20</td>\n",
              "      <td>?</td>\n",
              "      <td>71</td>\n",
              "    </tr>\n",
              "    <tr>\n",
              "      <th>4</th>\n",
              "      <td>13</td>\n",
              "      <td>61</td>\n",
              "      <td>3</td>\n",
              "      <td>?</td>\n",
              "      <td>?</td>\n",
              "    </tr>\n",
              "  </tbody>\n",
              "</table>\n",
              "</div>\n",
              "      <button class=\"colab-df-convert\" onclick=\"convertToInteractive('df-43202604-1d26-432c-96ea-92f4309ac0c1')\"\n",
              "              title=\"Convert this dataframe to an interactive table.\"\n",
              "              style=\"display:none;\">\n",
              "        \n",
              "  <svg xmlns=\"http://www.w3.org/2000/svg\" height=\"24px\"viewBox=\"0 0 24 24\"\n",
              "       width=\"24px\">\n",
              "    <path d=\"M0 0h24v24H0V0z\" fill=\"none\"/>\n",
              "    <path d=\"M18.56 5.44l.94 2.06.94-2.06 2.06-.94-2.06-.94-.94-2.06-.94 2.06-2.06.94zm-11 1L8.5 8.5l.94-2.06 2.06-.94-2.06-.94L8.5 2.5l-.94 2.06-2.06.94zm10 10l.94 2.06.94-2.06 2.06-.94-2.06-.94-.94-2.06-.94 2.06-2.06.94z\"/><path d=\"M17.41 7.96l-1.37-1.37c-.4-.4-.92-.59-1.43-.59-.52 0-1.04.2-1.43.59L10.3 9.45l-7.72 7.72c-.78.78-.78 2.05 0 2.83L4 21.41c.39.39.9.59 1.41.59.51 0 1.02-.2 1.41-.59l7.78-7.78 2.81-2.81c.8-.78.8-2.07 0-2.86zM5.41 20L4 18.59l7.72-7.72 1.47 1.35L5.41 20z\"/>\n",
              "  </svg>\n",
              "      </button>\n",
              "      \n",
              "  <style>\n",
              "    .colab-df-container {\n",
              "      display:flex;\n",
              "      flex-wrap:wrap;\n",
              "      gap: 12px;\n",
              "    }\n",
              "\n",
              "    .colab-df-convert {\n",
              "      background-color: #E8F0FE;\n",
              "      border: none;\n",
              "      border-radius: 50%;\n",
              "      cursor: pointer;\n",
              "      display: none;\n",
              "      fill: #1967D2;\n",
              "      height: 32px;\n",
              "      padding: 0 0 0 0;\n",
              "      width: 32px;\n",
              "    }\n",
              "\n",
              "    .colab-df-convert:hover {\n",
              "      background-color: #E2EBFA;\n",
              "      box-shadow: 0px 1px 2px rgba(60, 64, 67, 0.3), 0px 1px 3px 1px rgba(60, 64, 67, 0.15);\n",
              "      fill: #174EA6;\n",
              "    }\n",
              "\n",
              "    [theme=dark] .colab-df-convert {\n",
              "      background-color: #3B4455;\n",
              "      fill: #D2E3FC;\n",
              "    }\n",
              "\n",
              "    [theme=dark] .colab-df-convert:hover {\n",
              "      background-color: #434B5C;\n",
              "      box-shadow: 0px 1px 3px 1px rgba(0, 0, 0, 0.15);\n",
              "      filter: drop-shadow(0px 1px 2px rgba(0, 0, 0, 0.3));\n",
              "      fill: #FFFFFF;\n",
              "    }\n",
              "  </style>\n",
              "\n",
              "      <script>\n",
              "        const buttonEl =\n",
              "          document.querySelector('#df-43202604-1d26-432c-96ea-92f4309ac0c1 button.colab-df-convert');\n",
              "        buttonEl.style.display =\n",
              "          google.colab.kernel.accessAllowed ? 'block' : 'none';\n",
              "\n",
              "        async function convertToInteractive(key) {\n",
              "          const element = document.querySelector('#df-43202604-1d26-432c-96ea-92f4309ac0c1');\n",
              "          const dataTable =\n",
              "            await google.colab.kernel.invokeFunction('convertToInteractive',\n",
              "                                                     [key], {});\n",
              "          if (!dataTable) return;\n",
              "\n",
              "          const docLinkHtml = 'Like what you see? Visit the ' +\n",
              "            '<a target=\"_blank\" href=https://colab.research.google.com/notebooks/data_table.ipynb>data table notebook</a>'\n",
              "            + ' to learn more about interactive tables.';\n",
              "          element.innerHTML = '';\n",
              "          dataTable['output_type'] = 'display_data';\n",
              "          await google.colab.output.renderOutput(dataTable, element);\n",
              "          const docLink = document.createElement('div');\n",
              "          docLink.innerHTML = docLinkHtml;\n",
              "          element.appendChild(docLink);\n",
              "        }\n",
              "      </script>\n",
              "    </div>\n",
              "  </div>\n",
              "  "
            ]
          },
          "metadata": {},
          "execution_count": 33
        }
      ]
    },
    {
      "cell_type": "markdown",
      "source": [
        "The heart rate contains null value in only one reading, while the vectors angles collectively are missing 384, a large fraction of 452 total observations. So, the heart rate is included in analysis, while the vector angles are dropped."
      ],
      "metadata": {
        "id": "1AOMeVxYkp_Q"
      }
    },
    {
      "cell_type": "code",
      "source": [
        "data2 = data.iloc[:,10:15]\n",
        "null_all = data2[(data2.iloc[:,0]==\"?\") | (data2.iloc[:,1]==\"?\") | (data2.iloc[:,2]==\"?\")|\n",
        "                 (data2.iloc[:,3]==\"?\") | (data2.iloc[:,4]==\"?\") ]\n",
        "null_hr = data2[(data2.iloc[:,4]==\"?\") ]\n",
        "print (\"Null Values Total\", len(null_all),'\\n'\n",
        "       \"Null Values HR   \", len(null_hr))"
      ],
      "metadata": {
        "colab": {
          "base_uri": "https://localhost:8080/"
        },
        "id": "U-DvsOI4iwjD",
        "outputId": "ebd5099a-6ee1-40c4-c7c5-572ec0b0378e"
      },
      "execution_count": null,
      "outputs": [
        {
          "output_type": "stream",
          "name": "stdout",
          "text": [
            "Null Values Total 384 \n",
            "Null Values HR    1\n"
          ]
        }
      ]
    },
    {
      "cell_type": "markdown",
      "source": [
        "**Dropping vector anlgles and a single observation which is missing the heart rate.**"
      ],
      "metadata": {
        "id": "0NK9mmVpzziA"
      }
    },
    {
      "cell_type": "code",
      "source": [
        "data3 = data.drop(labels=4, axis=0)\n",
        "data3 = data3.drop(labels=[10,11,12,13],axis=1)\n",
        "#Removed Null values in column 10-14\n",
        "data3.iloc[:,10] = data3.iloc[:,10].astype(int)\n",
        "#Cast HeartRate data to int"
      ],
      "metadata": {
        "id": "W2iAy97jv4uh"
      },
      "execution_count": null,
      "outputs": []
    },
    {
      "cell_type": "markdown",
      "source": [
        "----\n",
        "**Data Segmentation**\n",
        "\n",
        "Data is divided into different segments, containing 1) basic \n",
        "attributes (height, weight, pulse duration etc) 2) channel measurements\n",
        "containing readings of identical variables (widths of q, r, s components)\n",
        "from different channels (DI, DII, DII, AVR etc). \n",
        "Each observation contains 280 variables (- dropped vars) from these two categories. For analysis, the basic attributes and one or more of channel measurements are included. We use one or couple of channel data in the analysis; adding every channel, 12 times the data, would make the model \n",
        "too complex.  "
      ],
      "metadata": {
        "id": "0epMVByq1VyA"
      }
    },
    {
      "cell_type": "code",
      "source": [
        "include_att = [i for i in range(11)]\\\n",
        "            + [i for i in range(11,23)]\\\n",
        "            + [i for i in range(155,165)]\\\n",
        "            + [i for i in range(23,35)]\\\n",
        "            + [i for i in range(165,175)]\n",
        "           # + [i for i in range(35,47)]\\\n",
        "           # + [i for i in range(175,185)]\n",
        "# Primary attributes 0-9, Heart rate 14\n",
        "# DI: 16-20, deflection 21, ragged/diphasic -27\n",
        "# DI Amplitude:160-167, QRSA 168,169\n",
        "#Selection Attributes to use for classification\n",
        "data_train_x = data3.iloc[:,include_att]\n",
        "data_train_y = data3.iloc[:,-1]"
      ],
      "metadata": {
        "id": "h40_IDV-xgsv"
      },
      "execution_count": null,
      "outputs": []
    },
    {
      "cell_type": "markdown",
      "source": [
        "**Correlations in basic attributes**"
      ],
      "metadata": {
        "id": "JCar43Q54SUP"
      }
    },
    {
      "cell_type": "code",
      "source": [
        "#Check Correlation in basic attributes\n",
        "data_corr              = data3.iloc[:,:11]\n",
        "data_corr.columns      = [\"AGE\",\"SEX\",\"HEIGHT\",\"WEIGHT\",\"QRS\",\"PR\",\"QT\",\"T\",\"P\",\"QRS Vec\",\"HEARTRATE\"]\n",
        "corr      = data_corr.corr()\n",
        "plt_      = plt.figure(figsize=(12,6))\n",
        "plt_      = sns.heatmap(corr,annot=True,cmap='coolwarm')"
      ],
      "metadata": {
        "colab": {
          "base_uri": "https://localhost:8080/",
          "height": 426
        },
        "id": "hDuzz0o8MCpz",
        "outputId": "df5cbc23-e15d-457c-958f-e2ae995f45a4"
      },
      "execution_count": null,
      "outputs": [
        {
          "output_type": "display_data",
          "data": {
            "text/plain": [
              "<Figure size 864x432 with 2 Axes>"
            ],
            "image/png": "[encoded data removed]"
          },
          "metadata": {
            "needs_background": "light"
          }
        }
      ]
    },
    {
      "cell_type": "markdown",
      "source": [
        "Age, weight, heartrate show correlations."
      ],
      "metadata": {
        "id": "lgNNvuqE4foS"
      }
    },
    {
      "cell_type": "markdown",
      "source": [
        "**Unbalanced dataset, which skews towards normal (Class 0) cases.**"
      ],
      "metadata": {
        "id": "nQQOzPQW4xhI"
      }
    },
    {
      "cell_type": "code",
      "source": [
        "aa=data_train_y.value_counts()\n",
        "x_val = aa.index\n",
        "y_val = aa.values\n",
        "plt.plot(x_val,y_val,\"bo\")\n",
        "plt.xlabel(\"Class Code (Arrhythmia Type)\")\n",
        "plt.ylabel(\"Number of Cases\")"
      ],
      "metadata": {
        "colab": {
          "base_uri": "https://localhost:8080/",
          "height": 297
        },
        "id": "LeGXXQhD6CIU",
        "outputId": "cf7661ef-1d7d-4dfc-e5c4-b5df0eb0d79f"
      },
      "execution_count": null,
      "outputs": [
        {
          "output_type": "execute_result",
          "data": {
            "text/plain": [
              "Text(0, 0.5, 'Number of Cases')"
            ]
          },
          "metadata": {},
          "execution_count": 76
        },
        {
          "output_type": "display_data",
          "data": {
            "text/plain": [
              "<Figure size 432x288 with 1 Axes>"
            ],
            "image/png": "[encoded data removed]"
          },
          "metadata": {
            "needs_background": "light"
          }
        }
      ]
    },
    {
      "cell_type": "markdown",
      "source": [
        "**Train/Test Split**"
      ],
      "metadata": {
        "id": "U9i127B649PT"
      }
    },
    {
      "cell_type": "code",
      "source": [
        "#Split into Train Test\n",
        "x_train, x_test, y_train, y_test =\\\n",
        "  train_test_split(data_train_x,data_train_y, test_size=0.2, random_state=0)\n",
        "print(f\"Train: {x_train.shape}, {y_train.shape}\")\n",
        "print(f\"Test : {x_test.shape}, {y_test.shape}\")"
      ],
      "metadata": {
        "colab": {
          "base_uri": "https://localhost:8080/"
        },
        "id": "JfqDt8En7EUC",
        "outputId": "46665cd4-4dd3-4cd9-becc-d559b2aca2f0"
      },
      "execution_count": null,
      "outputs": [
        {
          "output_type": "stream",
          "name": "stdout",
          "text": [
            "Train: (360, 55), (360,)\n",
            "Test : (91, 55), (91,)\n"
          ]
        }
      ]
    },
    {
      "cell_type": "markdown",
      "source": [
        "**Using Cross-Validation to estimate the accuracy of various models.**"
      ],
      "metadata": {
        "id": "GjbRwm1M5Dch"
      }
    },
    {
      "cell_type": "code",
      "source": [
        "#cross-validation score metric\n",
        "def cv_scoring(classifier,x,y):\n",
        "    return accuracy_score(y,classifier.predict(x))\n",
        "\n",
        "#Collection of Models\n",
        "models = {\n",
        "    \"SVC\":SVC(),\n",
        "    \"Gaussian NB\":GaussianNB(),\n",
        "    \"Random Forest\":RandomForestClassifier(random_state=0),\n",
        "    \"Gradient Boosted\":GradientBoostingClassifier(random_state=0),\n",
        "    \"KNN\":KNeighborsClassifier(n_neighbors=10, n_jobs=-1),\n",
        "    \"Neural Net\":MLPClassifier(hidden_layer_sizes=(100,50,100,50,16))\n",
        "}\n",
        "\n",
        "#Train each model, and cross validate (k-fold)\n",
        "for model in models:\n",
        "  m_ = models[model]\n",
        "  sc = cross_val_score(m_, data_train_x, data_train_y, cv = 2,\n",
        "                       n_jobs = -1,\n",
        "                       scoring= cv_scoring)\n",
        "  \n",
        "  print(\"--\"*10)\n",
        "  print(\"{0:20s} {1:} - Avg: {2:5.1f}  \".format(model,sc,np.mean(sc)))"
      ],
      "metadata": {
        "colab": {
          "base_uri": "https://localhost:8080/"
        },
        "id": "0855puSb9aD6",
        "outputId": "7ad57ae6-48fb-45be-995a-df9a49eb9e91"
      },
      "execution_count": null,
      "outputs": [
        {
          "output_type": "stream",
          "name": "stdout",
          "text": [
            "--------------------\n",
            "SVC                  [0.54424779 0.55111111] - Avg:   0.5  \n",
            "--------------------\n",
            "Gaussian NB          [0.11504425 0.21333333] - Avg:   0.2  \n",
            "--------------------\n",
            "Random Forest        [0.6460177  0.69333333] - Avg:   0.7  \n",
            "--------------------\n",
            "Gradient Boosted     [0.59292035 0.67555556] - Avg:   0.6  \n",
            "--------------------\n",
            "KNN                  [0.54867257 0.56888889] - Avg:   0.6  \n",
            "--------------------\n",
            "Neural Net           [0.61061947 0.54222222] - Avg:   0.6  \n"
          ]
        }
      ]
    },
    {
      "cell_type": "markdown",
      "source": [
        "Since Decision Trees perform the best, we test the two DT models with various combination of hyper-parameters. "
      ],
      "metadata": {
        "id": "iGL2cUDM5Oh3"
      }
    },
    {
      "cell_type": "markdown",
      "source": [
        "**Random Forest Decision Trees**"
      ],
      "metadata": {
        "id": "i8AEYNox5k2h"
      }
    },
    {
      "cell_type": "code",
      "source": [
        "class_rf1 = RandomForestClassifier(random_state=0)\n",
        "class_rf1.fit(x_train,y_train)\n",
        "class_rf2 = RandomForestClassifier(random_state=0,n_estimators=75)\n",
        "class_rf2.fit(x_train,y_train)\n",
        "\n",
        "print(\"Accuracy RandomForest\")\n",
        "print(\"Default Params\",cv_scoring(class_rf1,x_test,y_test))\n",
        "print(\"New Params    \",cv_scoring(class_rf2,x_test,y_test))\n"
      ],
      "metadata": {
        "id": "rVvLEWFc90Au",
        "colab": {
          "base_uri": "https://localhost:8080/"
        },
        "outputId": "97c00729-dae2-4def-af28-bbbfdc13b6a6"
      },
      "execution_count": null,
      "outputs": [
        {
          "output_type": "stream",
          "name": "stdout",
          "text": [
            "Accuracy RandomForest\n",
            "Default Params 0.6923076923076923\n",
            "New Params     0.7032967032967034\n"
          ]
        }
      ]
    },
    {
      "cell_type": "markdown",
      "source": [
        "**Gradient Boosted Decision Trees**"
      ],
      "metadata": {
        "id": "G8bZ7f-X5nWF"
      }
    },
    {
      "cell_type": "code",
      "source": [
        "class_gb1 = GradientBoostingClassifier(random_state=0)\n",
        "class_gb1.fit(x_train,y_train)\n",
        "class_gb2 = GradientBoostingClassifier(random_state=0,learning_rate=0.05,\n",
        "                                       max_features='log2')\n",
        "class_gb2.fit(x_train,y_train)\n",
        "\n",
        "print(\"Accuracy Gradient Boosting Classifier\")\n",
        "print(\"Default Params\",cv_scoring(class_gb1,x_test,y_test))\n",
        "print(\"New Params    \",cv_scoring(class_gb2,x_test,y_test))"
      ],
      "metadata": {
        "colab": {
          "base_uri": "https://localhost:8080/"
        },
        "id": "C7iRiHtPfhyN",
        "outputId": "5d0f56ad-726b-4eba-8e3d-0e92950581fe"
      },
      "execution_count": null,
      "outputs": [
        {
          "output_type": "stream",
          "name": "stdout",
          "text": [
            "Accuracy Gradient Boosting Classifier\n",
            "Default Params 0.6043956043956044\n",
            "New Params     0.6483516483516484\n"
          ]
        }
      ]
    },
    {
      "cell_type": "markdown",
      "source": [
        "##Conclusion and Notes\n",
        "1.  The following parameters were varied, and best performing settings are adopted: n_estimators,criterion, max_depth, max_features. Both randomforest and gradientboosting have these parameters is common, so testing was mostly consistent. \n",
        " \n",
        "2. In the above, only DI channel is used. DI + DII was tested, but gave worse predictions. More channels can be tested individually or in combination, and  may provide better result. In this analysis, we wanted to test a ML model on data and establish a baseline for what accuracy this models can achieve. **We find best accuracy at 70\\% from RandomForest Model.** "
      ],
      "metadata": {
        "id": "cahHUShJ5wt6"
      }
    },
    {
      "cell_type": "code",
      "source": [
        ""
      ],
      "metadata": {
        "id": "S_pZ7aTf9rBV"
      },
      "execution_count": null,
      "outputs": []
    }
  ]
}