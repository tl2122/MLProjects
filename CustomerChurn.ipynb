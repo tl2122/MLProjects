{
  "nbformat": 4,
  "nbformat_minor": 0,
  "metadata": {
    "colab": {
      "name": "CustomerChurn.ipynb",
      "provenance": [],
      "collapsed_sections": []
    },
    "kernelspec": {
      "name": "python3",
      "display_name": "Python 3"
    },
    "language_info": {
      "name": "python"
    }
  },
  "cells": [
    {
      "cell_type": "markdown",
      "source": [
        "#Churn Analysis of  Bank Customers"
      ],
      "metadata": {
        "id": "LRH_azHcpzJn"
      }
    },
    {
      "cell_type": "markdown",
      "source": [
        "##Introduction\n",
        "\n",
        "Customer churn analysis of bank customers provides an insight into the causes of customers leaving the bank, and provide ways to reduce churn and retain customers. \n",
        "\n",
        "In this workbook, we analyze banking data, and build ML models to understand the causes of churn; the models can also predict the probability of customer retention/churn.\n",
        "\n",
        "The analysis is carried out in two steps:\n",
        "where first we perform **exploratory data analysis (EDA)**, followed by classification\n",
        "task using various **Machine Learning** classifiers. The results of the second step and conclusions are provided at the end."
      ],
      "metadata": {
        "id": "mf-81JgeMIpi"
      }
    },
    {
      "cell_type": "markdown",
      "source": [
        "**Connect to gdrive**"
      ],
      "metadata": {
        "id": "61RnPmF7mVSn"
      }
    },
    {
      "cell_type": "code",
      "source": [
        "from google.colab import drive\n",
        "drive.mount('/gdrive')\n",
        "%cd /gdrive"
      ],
      "metadata": {
        "colab": {
          "base_uri": "https://localhost:8080/"
        },
        "id": "I5nMQu0EqVY-",
        "outputId": "06600bc0-3c05-4b53-da55-5644d8eea772"
      },
      "execution_count": 1,
      "outputs": [
        {
          "output_type": "stream",
          "name": "stdout",
          "text": [
            "Mounted at /gdrive\n",
            "/gdrive\n"
          ]
        }
      ]
    },
    {
      "cell_type": "markdown",
      "source": [
        "**Import Libs**"
      ],
      "metadata": {
        "id": "PsE5gHl6rhpe"
      }
    },
    {
      "cell_type": "code",
      "source": [
        "from scipy.stats import mode\n",
        "import pandas as pd\n",
        "import numpy as np\n",
        "import matplotlib.pyplot as plt\n",
        "import seaborn as sns\n",
        "from math import ceil\n",
        "from scipy.stats import chi2_contingency\n",
        "from sklearn.preprocessing import LabelEncoder\n",
        "from sklearn.model_selection import train_test_split, cross_val_score\n",
        "from sklearn.svm import SVC\n",
        "from sklearn.naive_bayes import GaussianNB  \n",
        "from sklearn.ensemble import RandomForestClassifier, GradientBoostingClassifier\n",
        "from sklearn.neighbors import KNeighborsClassifier  \n",
        "from sklearn.neural_network import MLPClassifier\n",
        "from sklearn.linear_model import LogisticRegression\n",
        "from sklearn.metrics import accuracy_score, confusion_matrix\n",
        "%matplotlib inline"
      ],
      "metadata": {
        "id": "xVkDcDweraIZ"
      },
      "execution_count": 2,
      "outputs": []
    },
    {
      "cell_type": "markdown",
      "source": [
        "**Load Dataset**"
      ],
      "metadata": {
        "id": "t8rsIuTLrmwW"
      }
    },
    {
      "cell_type": "code",
      "source": [
        "data  = pd.read_csv('MyDrive/MLData/Churn_Modelling.csv') \n",
        "print (data.info())"
      ],
      "metadata": {
        "colab": {
          "base_uri": "https://localhost:8080/"
        },
        "id": "PWom0SFOrgqr",
        "outputId": "a88cec06-3148-46f4-e3bd-7d5c3eaebeff"
      },
      "execution_count": 3,
      "outputs": [
        {
          "output_type": "stream",
          "name": "stdout",
          "text": [
            "<class 'pandas.core.frame.DataFrame'>\n",
            "RangeIndex: 10000 entries, 0 to 9999\n",
            "Data columns (total 14 columns):\n",
            " #   Column           Non-Null Count  Dtype  \n",
            "---  ------           --------------  -----  \n",
            " 0   RowNumber        10000 non-null  int64  \n",
            " 1   CustomerId       10000 non-null  int64  \n",
            " 2   Surname          10000 non-null  object \n",
            " 3   CreditScore      10000 non-null  int64  \n",
            " 4   Geography        10000 non-null  object \n",
            " 5   Gender           10000 non-null  object \n",
            " 6   Age              10000 non-null  int64  \n",
            " 7   Tenure           10000 non-null  int64  \n",
            " 8   Balance          10000 non-null  float64\n",
            " 9   NumOfProducts    10000 non-null  int64  \n",
            " 10  HasCrCard        10000 non-null  int64  \n",
            " 11  IsActiveMember   10000 non-null  int64  \n",
            " 12  EstimatedSalary  10000 non-null  float64\n",
            " 13  Exited           10000 non-null  int64  \n",
            "dtypes: float64(2), int64(9), object(3)\n",
            "memory usage: 1.1+ MB\n",
            "None\n"
          ]
        }
      ]
    },
    {
      "cell_type": "markdown",
      "source": [
        "Dataset contains 13 columns, with 3 non-numeric (object) data. "
      ],
      "metadata": {
        "id": "urwEvyvZQzxE"
      }
    },
    {
      "cell_type": "markdown",
      "source": [
        "##Data Exploration"
      ],
      "metadata": {
        "id": "b50WIx4ET2TA"
      }
    },
    {
      "cell_type": "code",
      "source": [
        "data.head()"
      ],
      "metadata": {
        "id": "qoJMMEWGryC5",
        "colab": {
          "base_uri": "https://localhost:8080/",
          "height": 270
        },
        "outputId": "808a5d0b-2eee-42bb-a2c4-c428c8e5ef0b"
      },
      "execution_count": 4,
      "outputs": [
        {
          "output_type": "execute_result",
          "data": {
            "text/plain": [
              "   RowNumber  CustomerId   Surname  CreditScore Geography  Gender  Age  \\\n",
              "0          1    15634602  Hargrave          619    France  Female   42   \n",
              "1          2    15647311      Hill          608     Spain  Female   41   \n",
              "2          3    15619304      Onio          502    France  Female   42   \n",
              "3          4    15701354      Boni          699    France  Female   39   \n",
              "4          5    15737888  Mitchell          850     Spain  Female   43   \n",
              "\n",
              "   Tenure    Balance  NumOfProducts  HasCrCard  IsActiveMember  \\\n",
              "0       2       0.00              1          1               1   \n",
              "1       1   83807.86              1          0               1   \n",
              "2       8  159660.80              3          1               0   \n",
              "3       1       0.00              2          0               0   \n",
              "4       2  125510.82              1          1               1   \n",
              "\n",
              "   EstimatedSalary  Exited  \n",
              "0        101348.88       1  \n",
              "1        112542.58       0  \n",
              "2        113931.57       1  \n",
              "3         93826.63       0  \n",
              "4         79084.10       0  "
            ],
            "text/html": [
              "\n",
              "  <div id=\"df-4c9bffa7-c8e0-4097-8af1-20f55c80e354\">\n",
              "    <div class=\"colab-df-container\">\n",
              "      <div>\n",
              "<style scoped>\n",
              "    .dataframe tbody tr th:only-of-type {\n",
              "        vertical-align: middle;\n",
              "    }\n",
              "\n",
              "    .dataframe tbody tr th {\n",
              "        vertical-align: top;\n",
              "    }\n",
              "\n",
              "    .dataframe thead th {\n",
              "        text-align: right;\n",
              "    }\n",
              "</style>\n",
              "<table border=\"1\" class=\"dataframe\">\n",
              "  <thead>\n",
              "    <tr style=\"text-align: right;\">\n",
              "      <th></th>\n",
              "      <th>RowNumber</th>\n",
              "      <th>CustomerId</th>\n",
              "      <th>Surname</th>\n",
              "      <th>CreditScore</th>\n",
              "      <th>Geography</th>\n",
              "      <th>Gender</th>\n",
              "      <th>Age</th>\n",
              "      <th>Tenure</th>\n",
              "      <th>Balance</th>\n",
              "      <th>NumOfProducts</th>\n",
              "      <th>HasCrCard</th>\n",
              "      <th>IsActiveMember</th>\n",
              "      <th>EstimatedSalary</th>\n",
              "      <th>Exited</th>\n",
              "    </tr>\n",
              "  </thead>\n",
              "  <tbody>\n",
              "    <tr>\n",
              "      <th>0</th>\n",
              "      <td>1</td>\n",
              "      <td>15634602</td>\n",
              "      <td>Hargrave</td>\n",
              "      <td>619</td>\n",
              "      <td>France</td>\n",
              "      <td>Female</td>\n",
              "      <td>42</td>\n",
              "      <td>2</td>\n",
              "      <td>0.00</td>\n",
              "      <td>1</td>\n",
              "      <td>1</td>\n",
              "      <td>1</td>\n",
              "      <td>101348.88</td>\n",
              "      <td>1</td>\n",
              "    </tr>\n",
              "    <tr>\n",
              "      <th>1</th>\n",
              "      <td>2</td>\n",
              "      <td>15647311</td>\n",
              "      <td>Hill</td>\n",
              "      <td>608</td>\n",
              "      <td>Spain</td>\n",
              "      <td>Female</td>\n",
              "      <td>41</td>\n",
              "      <td>1</td>\n",
              "      <td>83807.86</td>\n",
              "      <td>1</td>\n",
              "      <td>0</td>\n",
              "      <td>1</td>\n",
              "      <td>112542.58</td>\n",
              "      <td>0</td>\n",
              "    </tr>\n",
              "    <tr>\n",
              "      <th>2</th>\n",
              "      <td>3</td>\n",
              "      <td>15619304</td>\n",
              "      <td>Onio</td>\n",
              "      <td>502</td>\n",
              "      <td>France</td>\n",
              "      <td>Female</td>\n",
              "      <td>42</td>\n",
              "      <td>8</td>\n",
              "      <td>159660.80</td>\n",
              "      <td>3</td>\n",
              "      <td>1</td>\n",
              "      <td>0</td>\n",
              "      <td>113931.57</td>\n",
              "      <td>1</td>\n",
              "    </tr>\n",
              "    <tr>\n",
              "      <th>3</th>\n",
              "      <td>4</td>\n",
              "      <td>15701354</td>\n",
              "      <td>Boni</td>\n",
              "      <td>699</td>\n",
              "      <td>France</td>\n",
              "      <td>Female</td>\n",
              "      <td>39</td>\n",
              "      <td>1</td>\n",
              "      <td>0.00</td>\n",
              "      <td>2</td>\n",
              "      <td>0</td>\n",
              "      <td>0</td>\n",
              "      <td>93826.63</td>\n",
              "      <td>0</td>\n",
              "    </tr>\n",
              "    <tr>\n",
              "      <th>4</th>\n",
              "      <td>5</td>\n",
              "      <td>15737888</td>\n",
              "      <td>Mitchell</td>\n",
              "      <td>850</td>\n",
              "      <td>Spain</td>\n",
              "      <td>Female</td>\n",
              "      <td>43</td>\n",
              "      <td>2</td>\n",
              "      <td>125510.82</td>\n",
              "      <td>1</td>\n",
              "      <td>1</td>\n",
              "      <td>1</td>\n",
              "      <td>79084.10</td>\n",
              "      <td>0</td>\n",
              "    </tr>\n",
              "  </tbody>\n",
              "</table>\n",
              "</div>\n",
              "      <button class=\"colab-df-convert\" onclick=\"convertToInteractive('df-4c9bffa7-c8e0-4097-8af1-20f55c80e354')\"\n",
              "              title=\"Convert this dataframe to an interactive table.\"\n",
              "              style=\"display:none;\">\n",
              "        \n",
              "  <svg xmlns=\"http://www.w3.org/2000/svg\" height=\"24px\"viewBox=\"0 0 24 24\"\n",
              "       width=\"24px\">\n",
              "    <path d=\"M0 0h24v24H0V0z\" fill=\"none\"/>\n",
              "    <path d=\"M18.56 5.44l.94 2.06.94-2.06 2.06-.94-2.06-.94-.94-2.06-.94 2.06-2.06.94zm-11 1L8.5 8.5l.94-2.06 2.06-.94-2.06-.94L8.5 2.5l-.94 2.06-2.06.94zm10 10l.94 2.06.94-2.06 2.06-.94-2.06-.94-.94-2.06-.94 2.06-2.06.94z\"/><path d=\"M17.41 7.96l-1.37-1.37c-.4-.4-.92-.59-1.43-.59-.52 0-1.04.2-1.43.59L10.3 9.45l-7.72 7.72c-.78.78-.78 2.05 0 2.83L4 21.41c.39.39.9.59 1.41.59.51 0 1.02-.2 1.41-.59l7.78-7.78 2.81-2.81c.8-.78.8-2.07 0-2.86zM5.41 20L4 18.59l7.72-7.72 1.47 1.35L5.41 20z\"/>\n",
              "  </svg>\n",
              "      </button>\n",
              "      \n",
              "  <style>\n",
              "    .colab-df-container {\n",
              "      display:flex;\n",
              "      flex-wrap:wrap;\n",
              "      gap: 12px;\n",
              "    }\n",
              "\n",
              "    .colab-df-convert {\n",
              "      background-color: #E8F0FE;\n",
              "      border: none;\n",
              "      border-radius: 50%;\n",
              "      cursor: pointer;\n",
              "      display: none;\n",
              "      fill: #1967D2;\n",
              "      height: 32px;\n",
              "      padding: 0 0 0 0;\n",
              "      width: 32px;\n",
              "    }\n",
              "\n",
              "    .colab-df-convert:hover {\n",
              "      background-color: #E2EBFA;\n",
              "      box-shadow: 0px 1px 2px rgba(60, 64, 67, 0.3), 0px 1px 3px 1px rgba(60, 64, 67, 0.15);\n",
              "      fill: #174EA6;\n",
              "    }\n",
              "\n",
              "    [theme=dark] .colab-df-convert {\n",
              "      background-color: #3B4455;\n",
              "      fill: #D2E3FC;\n",
              "    }\n",
              "\n",
              "    [theme=dark] .colab-df-convert:hover {\n",
              "      background-color: #434B5C;\n",
              "      box-shadow: 0px 1px 3px 1px rgba(0, 0, 0, 0.15);\n",
              "      filter: drop-shadow(0px 1px 2px rgba(0, 0, 0, 0.3));\n",
              "      fill: #FFFFFF;\n",
              "    }\n",
              "  </style>\n",
              "\n",
              "      <script>\n",
              "        const buttonEl =\n",
              "          document.querySelector('#df-4c9bffa7-c8e0-4097-8af1-20f55c80e354 button.colab-df-convert');\n",
              "        buttonEl.style.display =\n",
              "          google.colab.kernel.accessAllowed ? 'block' : 'none';\n",
              "\n",
              "        async function convertToInteractive(key) {\n",
              "          const element = document.querySelector('#df-4c9bffa7-c8e0-4097-8af1-20f55c80e354');\n",
              "          const dataTable =\n",
              "            await google.colab.kernel.invokeFunction('convertToInteractive',\n",
              "                                                     [key], {});\n",
              "          if (!dataTable) return;\n",
              "\n",
              "          const docLinkHtml = 'Like what you see? Visit the ' +\n",
              "            '<a target=\"_blank\" href=https://colab.research.google.com/notebooks/data_table.ipynb>data table notebook</a>'\n",
              "            + ' to learn more about interactive tables.';\n",
              "          element.innerHTML = '';\n",
              "          dataTable['output_type'] = 'display_data';\n",
              "          await google.colab.output.renderOutput(dataTable, element);\n",
              "          const docLink = document.createElement('div');\n",
              "          docLink.innerHTML = docLinkHtml;\n",
              "          element.appendChild(docLink);\n",
              "        }\n",
              "      </script>\n",
              "    </div>\n",
              "  </div>\n",
              "  "
            ]
          },
          "metadata": {},
          "execution_count": 4
        }
      ]
    },
    {
      "cell_type": "code",
      "source": [
        "data.describe(percentiles=[]).T"
      ],
      "metadata": {
        "colab": {
          "base_uri": "https://localhost:8080/",
          "height": 395
        },
        "id": "Mg-8QizCJ_it",
        "outputId": "4c319f9d-f89d-4a29-ca7e-0735ab816d1f"
      },
      "execution_count": 5,
      "outputs": [
        {
          "output_type": "execute_result",
          "data": {
            "text/plain": [
              "                   count          mean           std          min  \\\n",
              "RowNumber        10000.0  5.000500e+03   2886.895680         1.00   \n",
              "CustomerId       10000.0  1.569094e+07  71936.186123  15565701.00   \n",
              "CreditScore      10000.0  6.505288e+02     96.653299       350.00   \n",
              "Age              10000.0  3.892180e+01     10.487806        18.00   \n",
              "Tenure           10000.0  5.012800e+00      2.892174         0.00   \n",
              "Balance          10000.0  7.648589e+04  62397.405202         0.00   \n",
              "NumOfProducts    10000.0  1.530200e+00      0.581654         1.00   \n",
              "HasCrCard        10000.0  7.055000e-01      0.455840         0.00   \n",
              "IsActiveMember   10000.0  5.151000e-01      0.499797         0.00   \n",
              "EstimatedSalary  10000.0  1.000902e+05  57510.492818        11.58   \n",
              "Exited           10000.0  2.037000e-01      0.402769         0.00   \n",
              "\n",
              "                          50%          max  \n",
              "RowNumber        5.000500e+03     10000.00  \n",
              "CustomerId       1.569074e+07  15815690.00  \n",
              "CreditScore      6.520000e+02       850.00  \n",
              "Age              3.700000e+01        92.00  \n",
              "Tenure           5.000000e+00        10.00  \n",
              "Balance          9.719854e+04    250898.09  \n",
              "NumOfProducts    1.000000e+00         4.00  \n",
              "HasCrCard        1.000000e+00         1.00  \n",
              "IsActiveMember   1.000000e+00         1.00  \n",
              "EstimatedSalary  1.001939e+05    199992.48  \n",
              "Exited           0.000000e+00         1.00  "
            ],
            "text/html": [
              "\n",
              "  <div id=\"df-4b5a9c52-f27d-4524-937a-435a91408083\">\n",
              "    <div class=\"colab-df-container\">\n",
              "      <div>\n",
              "<style scoped>\n",
              "    .dataframe tbody tr th:only-of-type {\n",
              "        vertical-align: middle;\n",
              "    }\n",
              "\n",
              "    .dataframe tbody tr th {\n",
              "        vertical-align: top;\n",
              "    }\n",
              "\n",
              "    .dataframe thead th {\n",
              "        text-align: right;\n",
              "    }\n",
              "</style>\n",
              "<table border=\"1\" class=\"dataframe\">\n",
              "  <thead>\n",
              "    <tr style=\"text-align: right;\">\n",
              "      <th></th>\n",
              "      <th>count</th>\n",
              "      <th>mean</th>\n",
              "      <th>std</th>\n",
              "      <th>min</th>\n",
              "      <th>50%</th>\n",
              "      <th>max</th>\n",
              "    </tr>\n",
              "  </thead>\n",
              "  <tbody>\n",
              "    <tr>\n",
              "      <th>RowNumber</th>\n",
              "      <td>10000.0</td>\n",
              "      <td>5.000500e+03</td>\n",
              "      <td>2886.895680</td>\n",
              "      <td>1.00</td>\n",
              "      <td>5.000500e+03</td>\n",
              "      <td>10000.00</td>\n",
              "    </tr>\n",
              "    <tr>\n",
              "      <th>CustomerId</th>\n",
              "      <td>10000.0</td>\n",
              "      <td>1.569094e+07</td>\n",
              "      <td>71936.186123</td>\n",
              "      <td>15565701.00</td>\n",
              "      <td>1.569074e+07</td>\n",
              "      <td>15815690.00</td>\n",
              "    </tr>\n",
              "    <tr>\n",
              "      <th>CreditScore</th>\n",
              "      <td>10000.0</td>\n",
              "      <td>6.505288e+02</td>\n",
              "      <td>96.653299</td>\n",
              "      <td>350.00</td>\n",
              "      <td>6.520000e+02</td>\n",
              "      <td>850.00</td>\n",
              "    </tr>\n",
              "    <tr>\n",
              "      <th>Age</th>\n",
              "      <td>10000.0</td>\n",
              "      <td>3.892180e+01</td>\n",
              "      <td>10.487806</td>\n",
              "      <td>18.00</td>\n",
              "      <td>3.700000e+01</td>\n",
              "      <td>92.00</td>\n",
              "    </tr>\n",
              "    <tr>\n",
              "      <th>Tenure</th>\n",
              "      <td>10000.0</td>\n",
              "      <td>5.012800e+00</td>\n",
              "      <td>2.892174</td>\n",
              "      <td>0.00</td>\n",
              "      <td>5.000000e+00</td>\n",
              "      <td>10.00</td>\n",
              "    </tr>\n",
              "    <tr>\n",
              "      <th>Balance</th>\n",
              "      <td>10000.0</td>\n",
              "      <td>7.648589e+04</td>\n",
              "      <td>62397.405202</td>\n",
              "      <td>0.00</td>\n",
              "      <td>9.719854e+04</td>\n",
              "      <td>250898.09</td>\n",
              "    </tr>\n",
              "    <tr>\n",
              "      <th>NumOfProducts</th>\n",
              "      <td>10000.0</td>\n",
              "      <td>1.530200e+00</td>\n",
              "      <td>0.581654</td>\n",
              "      <td>1.00</td>\n",
              "      <td>1.000000e+00</td>\n",
              "      <td>4.00</td>\n",
              "    </tr>\n",
              "    <tr>\n",
              "      <th>HasCrCard</th>\n",
              "      <td>10000.0</td>\n",
              "      <td>7.055000e-01</td>\n",
              "      <td>0.455840</td>\n",
              "      <td>0.00</td>\n",
              "      <td>1.000000e+00</td>\n",
              "      <td>1.00</td>\n",
              "    </tr>\n",
              "    <tr>\n",
              "      <th>IsActiveMember</th>\n",
              "      <td>10000.0</td>\n",
              "      <td>5.151000e-01</td>\n",
              "      <td>0.499797</td>\n",
              "      <td>0.00</td>\n",
              "      <td>1.000000e+00</td>\n",
              "      <td>1.00</td>\n",
              "    </tr>\n",
              "    <tr>\n",
              "      <th>EstimatedSalary</th>\n",
              "      <td>10000.0</td>\n",
              "      <td>1.000902e+05</td>\n",
              "      <td>57510.492818</td>\n",
              "      <td>11.58</td>\n",
              "      <td>1.001939e+05</td>\n",
              "      <td>199992.48</td>\n",
              "    </tr>\n",
              "    <tr>\n",
              "      <th>Exited</th>\n",
              "      <td>10000.0</td>\n",
              "      <td>2.037000e-01</td>\n",
              "      <td>0.402769</td>\n",
              "      <td>0.00</td>\n",
              "      <td>0.000000e+00</td>\n",
              "      <td>1.00</td>\n",
              "    </tr>\n",
              "  </tbody>\n",
              "</table>\n",
              "</div>\n",
              "      <button class=\"colab-df-convert\" onclick=\"convertToInteractive('df-4b5a9c52-f27d-4524-937a-435a91408083')\"\n",
              "              title=\"Convert this dataframe to an interactive table.\"\n",
              "              style=\"display:none;\">\n",
              "        \n",
              "  <svg xmlns=\"http://www.w3.org/2000/svg\" height=\"24px\"viewBox=\"0 0 24 24\"\n",
              "       width=\"24px\">\n",
              "    <path d=\"M0 0h24v24H0V0z\" fill=\"none\"/>\n",
              "    <path d=\"M18.56 5.44l.94 2.06.94-2.06 2.06-.94-2.06-.94-.94-2.06-.94 2.06-2.06.94zm-11 1L8.5 8.5l.94-2.06 2.06-.94-2.06-.94L8.5 2.5l-.94 2.06-2.06.94zm10 10l.94 2.06.94-2.06 2.06-.94-2.06-.94-.94-2.06-.94 2.06-2.06.94z\"/><path d=\"M17.41 7.96l-1.37-1.37c-.4-.4-.92-.59-1.43-.59-.52 0-1.04.2-1.43.59L10.3 9.45l-7.72 7.72c-.78.78-.78 2.05 0 2.83L4 21.41c.39.39.9.59 1.41.59.51 0 1.02-.2 1.41-.59l7.78-7.78 2.81-2.81c.8-.78.8-2.07 0-2.86zM5.41 20L4 18.59l7.72-7.72 1.47 1.35L5.41 20z\"/>\n",
              "  </svg>\n",
              "      </button>\n",
              "      \n",
              "  <style>\n",
              "    .colab-df-container {\n",
              "      display:flex;\n",
              "      flex-wrap:wrap;\n",
              "      gap: 12px;\n",
              "    }\n",
              "\n",
              "    .colab-df-convert {\n",
              "      background-color: #E8F0FE;\n",
              "      border: none;\n",
              "      border-radius: 50%;\n",
              "      cursor: pointer;\n",
              "      display: none;\n",
              "      fill: #1967D2;\n",
              "      height: 32px;\n",
              "      padding: 0 0 0 0;\n",
              "      width: 32px;\n",
              "    }\n",
              "\n",
              "    .colab-df-convert:hover {\n",
              "      background-color: #E2EBFA;\n",
              "      box-shadow: 0px 1px 2px rgba(60, 64, 67, 0.3), 0px 1px 3px 1px rgba(60, 64, 67, 0.15);\n",
              "      fill: #174EA6;\n",
              "    }\n",
              "\n",
              "    [theme=dark] .colab-df-convert {\n",
              "      background-color: #3B4455;\n",
              "      fill: #D2E3FC;\n",
              "    }\n",
              "\n",
              "    [theme=dark] .colab-df-convert:hover {\n",
              "      background-color: #434B5C;\n",
              "      box-shadow: 0px 1px 3px 1px rgba(0, 0, 0, 0.15);\n",
              "      filter: drop-shadow(0px 1px 2px rgba(0, 0, 0, 0.3));\n",
              "      fill: #FFFFFF;\n",
              "    }\n",
              "  </style>\n",
              "\n",
              "      <script>\n",
              "        const buttonEl =\n",
              "          document.querySelector('#df-4b5a9c52-f27d-4524-937a-435a91408083 button.colab-df-convert');\n",
              "        buttonEl.style.display =\n",
              "          google.colab.kernel.accessAllowed ? 'block' : 'none';\n",
              "\n",
              "        async function convertToInteractive(key) {\n",
              "          const element = document.querySelector('#df-4b5a9c52-f27d-4524-937a-435a91408083');\n",
              "          const dataTable =\n",
              "            await google.colab.kernel.invokeFunction('convertToInteractive',\n",
              "                                                     [key], {});\n",
              "          if (!dataTable) return;\n",
              "\n",
              "          const docLinkHtml = 'Like what you see? Visit the ' +\n",
              "            '<a target=\"_blank\" href=https://colab.research.google.com/notebooks/data_table.ipynb>data table notebook</a>'\n",
              "            + ' to learn more about interactive tables.';\n",
              "          element.innerHTML = '';\n",
              "          dataTable['output_type'] = 'display_data';\n",
              "          await google.colab.output.renderOutput(dataTable, element);\n",
              "          const docLink = document.createElement('div');\n",
              "          docLink.innerHTML = docLinkHtml;\n",
              "          element.appendChild(docLink);\n",
              "        }\n",
              "      </script>\n",
              "    </div>\n",
              "  </div>\n",
              "  "
            ]
          },
          "metadata": {},
          "execution_count": 5
        }
      ]
    },
    {
      "cell_type": "markdown",
      "source": [
        "Data shows that an average bank customer is about 39 years old, has balance of 76,000 and stays 5 years with the bank (tenure). Based on this and other data provided, we can infer which customer is likely to leave.\n",
        "\n"
      ],
      "metadata": {
        "id": "XOKZAHXURGOe"
      }
    },
    {
      "cell_type": "markdown",
      "source": [
        "**Drop Row number, id, and surname** since they are not relavant."
      ],
      "metadata": {
        "id": "yFAKFUudRz5f"
      }
    },
    {
      "cell_type": "code",
      "source": [
        "data = data.drop(columns=['RowNumber','CustomerId','Surname'])"
      ],
      "metadata": {
        "id": "o9lhfPvtOPxW"
      },
      "execution_count": 6,
      "outputs": []
    },
    {
      "cell_type": "markdown",
      "source": [
        "Data columns (attributes) is divided into categorical and continuous, we look at each \n",
        "separately.  "
      ],
      "metadata": {
        "id": "092qsisoSJpV"
      }
    },
    {
      "cell_type": "code",
      "source": [
        "#Classify variables as categorical or continous\n",
        "var_cat = ['Geography','Gender','Tenure','NumOfProducts',\n",
        "           'HasCrCard','IsActiveMember']\n",
        "var_con = ['Age','Balance','EstimatedSalary','CreditScore']\n",
        "data.head(5)"
      ],
      "metadata": {
        "colab": {
          "base_uri": "https://localhost:8080/",
          "height": 270
        },
        "id": "tfJxupVeXzHv",
        "outputId": "729345c4-6513-49c7-d4dd-2fda3c43bbdd"
      },
      "execution_count": 7,
      "outputs": [
        {
          "output_type": "execute_result",
          "data": {
            "text/plain": [
              "   CreditScore Geography  Gender  Age  Tenure    Balance  NumOfProducts  \\\n",
              "0          619    France  Female   42       2       0.00              1   \n",
              "1          608     Spain  Female   41       1   83807.86              1   \n",
              "2          502    France  Female   42       8  159660.80              3   \n",
              "3          699    France  Female   39       1       0.00              2   \n",
              "4          850     Spain  Female   43       2  125510.82              1   \n",
              "\n",
              "   HasCrCard  IsActiveMember  EstimatedSalary  Exited  \n",
              "0          1               1        101348.88       1  \n",
              "1          0               1        112542.58       0  \n",
              "2          1               0        113931.57       1  \n",
              "3          0               0         93826.63       0  \n",
              "4          1               1         79084.10       0  "
            ],
            "text/html": [
              "\n",
              "  <div id=\"df-1271bd6d-3fb2-4b95-a4cd-56bbca0d0ad9\">\n",
              "    <div class=\"colab-df-container\">\n",
              "      <div>\n",
              "<style scoped>\n",
              "    .dataframe tbody tr th:only-of-type {\n",
              "        vertical-align: middle;\n",
              "    }\n",
              "\n",
              "    .dataframe tbody tr th {\n",
              "        vertical-align: top;\n",
              "    }\n",
              "\n",
              "    .dataframe thead th {\n",
              "        text-align: right;\n",
              "    }\n",
              "</style>\n",
              "<table border=\"1\" class=\"dataframe\">\n",
              "  <thead>\n",
              "    <tr style=\"text-align: right;\">\n",
              "      <th></th>\n",
              "      <th>CreditScore</th>\n",
              "      <th>Geography</th>\n",
              "      <th>Gender</th>\n",
              "      <th>Age</th>\n",
              "      <th>Tenure</th>\n",
              "      <th>Balance</th>\n",
              "      <th>NumOfProducts</th>\n",
              "      <th>HasCrCard</th>\n",
              "      <th>IsActiveMember</th>\n",
              "      <th>EstimatedSalary</th>\n",
              "      <th>Exited</th>\n",
              "    </tr>\n",
              "  </thead>\n",
              "  <tbody>\n",
              "    <tr>\n",
              "      <th>0</th>\n",
              "      <td>619</td>\n",
              "      <td>France</td>\n",
              "      <td>Female</td>\n",
              "      <td>42</td>\n",
              "      <td>2</td>\n",
              "      <td>0.00</td>\n",
              "      <td>1</td>\n",
              "      <td>1</td>\n",
              "      <td>1</td>\n",
              "      <td>101348.88</td>\n",
              "      <td>1</td>\n",
              "    </tr>\n",
              "    <tr>\n",
              "      <th>1</th>\n",
              "      <td>608</td>\n",
              "      <td>Spain</td>\n",
              "      <td>Female</td>\n",
              "      <td>41</td>\n",
              "      <td>1</td>\n",
              "      <td>83807.86</td>\n",
              "      <td>1</td>\n",
              "      <td>0</td>\n",
              "      <td>1</td>\n",
              "      <td>112542.58</td>\n",
              "      <td>0</td>\n",
              "    </tr>\n",
              "    <tr>\n",
              "      <th>2</th>\n",
              "      <td>502</td>\n",
              "      <td>France</td>\n",
              "      <td>Female</td>\n",
              "      <td>42</td>\n",
              "      <td>8</td>\n",
              "      <td>159660.80</td>\n",
              "      <td>3</td>\n",
              "      <td>1</td>\n",
              "      <td>0</td>\n",
              "      <td>113931.57</td>\n",
              "      <td>1</td>\n",
              "    </tr>\n",
              "    <tr>\n",
              "      <th>3</th>\n",
              "      <td>699</td>\n",
              "      <td>France</td>\n",
              "      <td>Female</td>\n",
              "      <td>39</td>\n",
              "      <td>1</td>\n",
              "      <td>0.00</td>\n",
              "      <td>2</td>\n",
              "      <td>0</td>\n",
              "      <td>0</td>\n",
              "      <td>93826.63</td>\n",
              "      <td>0</td>\n",
              "    </tr>\n",
              "    <tr>\n",
              "      <th>4</th>\n",
              "      <td>850</td>\n",
              "      <td>Spain</td>\n",
              "      <td>Female</td>\n",
              "      <td>43</td>\n",
              "      <td>2</td>\n",
              "      <td>125510.82</td>\n",
              "      <td>1</td>\n",
              "      <td>1</td>\n",
              "      <td>1</td>\n",
              "      <td>79084.10</td>\n",
              "      <td>0</td>\n",
              "    </tr>\n",
              "  </tbody>\n",
              "</table>\n",
              "</div>\n",
              "      <button class=\"colab-df-convert\" onclick=\"convertToInteractive('df-1271bd6d-3fb2-4b95-a4cd-56bbca0d0ad9')\"\n",
              "              title=\"Convert this dataframe to an interactive table.\"\n",
              "              style=\"display:none;\">\n",
              "        \n",
              "  <svg xmlns=\"http://www.w3.org/2000/svg\" height=\"24px\"viewBox=\"0 0 24 24\"\n",
              "       width=\"24px\">\n",
              "    <path d=\"M0 0h24v24H0V0z\" fill=\"none\"/>\n",
              "    <path d=\"M18.56 5.44l.94 2.06.94-2.06 2.06-.94-2.06-.94-.94-2.06-.94 2.06-2.06.94zm-11 1L8.5 8.5l.94-2.06 2.06-.94-2.06-.94L8.5 2.5l-.94 2.06-2.06.94zm10 10l.94 2.06.94-2.06 2.06-.94-2.06-.94-.94-2.06-.94 2.06-2.06.94z\"/><path d=\"M17.41 7.96l-1.37-1.37c-.4-.4-.92-.59-1.43-.59-.52 0-1.04.2-1.43.59L10.3 9.45l-7.72 7.72c-.78.78-.78 2.05 0 2.83L4 21.41c.39.39.9.59 1.41.59.51 0 1.02-.2 1.41-.59l7.78-7.78 2.81-2.81c.8-.78.8-2.07 0-2.86zM5.41 20L4 18.59l7.72-7.72 1.47 1.35L5.41 20z\"/>\n",
              "  </svg>\n",
              "      </button>\n",
              "      \n",
              "  <style>\n",
              "    .colab-df-container {\n",
              "      display:flex;\n",
              "      flex-wrap:wrap;\n",
              "      gap: 12px;\n",
              "    }\n",
              "\n",
              "    .colab-df-convert {\n",
              "      background-color: #E8F0FE;\n",
              "      border: none;\n",
              "      border-radius: 50%;\n",
              "      cursor: pointer;\n",
              "      display: none;\n",
              "      fill: #1967D2;\n",
              "      height: 32px;\n",
              "      padding: 0 0 0 0;\n",
              "      width: 32px;\n",
              "    }\n",
              "\n",
              "    .colab-df-convert:hover {\n",
              "      background-color: #E2EBFA;\n",
              "      box-shadow: 0px 1px 2px rgba(60, 64, 67, 0.3), 0px 1px 3px 1px rgba(60, 64, 67, 0.15);\n",
              "      fill: #174EA6;\n",
              "    }\n",
              "\n",
              "    [theme=dark] .colab-df-convert {\n",
              "      background-color: #3B4455;\n",
              "      fill: #D2E3FC;\n",
              "    }\n",
              "\n",
              "    [theme=dark] .colab-df-convert:hover {\n",
              "      background-color: #434B5C;\n",
              "      box-shadow: 0px 1px 3px 1px rgba(0, 0, 0, 0.15);\n",
              "      filter: drop-shadow(0px 1px 2px rgba(0, 0, 0, 0.3));\n",
              "      fill: #FFFFFF;\n",
              "    }\n",
              "  </style>\n",
              "\n",
              "      <script>\n",
              "        const buttonEl =\n",
              "          document.querySelector('#df-1271bd6d-3fb2-4b95-a4cd-56bbca0d0ad9 button.colab-df-convert');\n",
              "        buttonEl.style.display =\n",
              "          google.colab.kernel.accessAllowed ? 'block' : 'none';\n",
              "\n",
              "        async function convertToInteractive(key) {\n",
              "          const element = document.querySelector('#df-1271bd6d-3fb2-4b95-a4cd-56bbca0d0ad9');\n",
              "          const dataTable =\n",
              "            await google.colab.kernel.invokeFunction('convertToInteractive',\n",
              "                                                     [key], {});\n",
              "          if (!dataTable) return;\n",
              "\n",
              "          const docLinkHtml = 'Like what you see? Visit the ' +\n",
              "            '<a target=\"_blank\" href=https://colab.research.google.com/notebooks/data_table.ipynb>data table notebook</a>'\n",
              "            + ' to learn more about interactive tables.';\n",
              "          element.innerHTML = '';\n",
              "          dataTable['output_type'] = 'display_data';\n",
              "          await google.colab.output.renderOutput(dataTable, element);\n",
              "          const docLink = document.createElement('div');\n",
              "          docLink.innerHTML = docLinkHtml;\n",
              "          element.appendChild(docLink);\n",
              "        }\n",
              "      </script>\n",
              "    </div>\n",
              "  </div>\n",
              "  "
            ]
          },
          "metadata": {},
          "execution_count": 7
        }
      ]
    },
    {
      "cell_type": "markdown",
      "source": [
        "**Distributions of the four continous variables**"
      ],
      "metadata": {
        "id": "XnqF3FHGToh0"
      }
    },
    {
      "cell_type": "code",
      "source": [
        "def plot_vars(var_list, dt):\n",
        "  num_vars = len(var_list)\n",
        "  nrows    = ceil(num_vars/2) \n",
        "  ncols    = 2 \n",
        "  tmp_     = dt[var_list].hist(\n",
        "      figsize=(8,nrows*4), bins=20,\n",
        "      linewidth=1.5, layout=(nrows,ncols),\n",
        "      color='dodgerblue'\n",
        "      )\n",
        "\n",
        "plot_vars(var_con,data)"
      ],
      "metadata": {
        "colab": {
          "base_uri": "https://localhost:8080/",
          "height": 499
        },
        "id": "OYnKVJHXTJ70",
        "outputId": "39af3ddb-d2a8-4354-9b28-d156ad5edd54"
      },
      "execution_count": 24,
      "outputs": [
        {
          "output_type": "display_data",
          "data": {
            "text/plain": [
              "<Figure size 576x576 with 4 Axes>"
            ],
            "image/png": "[encoded data removed]"
          },
          "metadata": {
            "needs_background": "light"
          }
        }
      ]
    },
    {
      "cell_type": "markdown",
      "source": [
        "The distributions show expected behavior:\n",
        "*   age - 18-92, skewed towards the higher end\n",
        "*   normal distributions of balance, credit score, with some zero balance customers\n",
        "*   salary evenly distributed among all customers.\n",
        "\n",
        "Therefore, we can use all four variables without much change, except scaling/normalization."
      ],
      "metadata": {
        "id": "b6ELg65IT9wt"
      }
    },
    {
      "cell_type": "markdown",
      "source": [
        "**Distributions of the six continous variables**"
      ],
      "metadata": {
        "id": "HK5_d7jQVyAJ"
      }
    },
    {
      "cell_type": "code",
      "source": [
        "fig,ax   = plt.subplots(2,3,figsize=(12,8))\n",
        "data_cat = data[var_cat]\n",
        "for index,column in enumerate(data_cat.columns):\n",
        "  plt.subplot(2,3,index+1)\n",
        "  tmp_ = sns.countplot(x=column, data=data)\n",
        "  plt.ylabel('Count')\n",
        "\n",
        "plt.tight_layout()"
      ],
      "metadata": {
        "colab": {
          "base_uri": "https://localhost:8080/",
          "height": 550
        },
        "id": "2ndXyNZdRTPZ",
        "outputId": "107d6760-7764-4ff6-947f-838f14adb0b9"
      },
      "execution_count": 9,
      "outputs": [
        {
          "output_type": "display_data",
          "data": {
            "text/plain": [
              "<Figure size 864x576 with 6 Axes>"
            ],
            "image/png": "[encoded data removed]"
          },
          "metadata": {
            "needs_background": "light"
          }
        }
      ]
    },
    {
      "cell_type": "markdown",
      "source": [
        "Categorical data is gives interesting information: \n",
        "* Majority customers are French, while German, Spanish customers are about equal. \n",
        "* Evenly divided in gender groups, and tenure over 10 years,\n",
        "* Most customers prefer to have about two products from the bank, and a credit card. "
      ],
      "metadata": {
        "id": "D5pHIqXSVsX8"
      }
    },
    {
      "cell_type": "code",
      "source": [
        "  tmp_ = sns.countplot(x=data['Exited'], data=data)"
      ],
      "metadata": {
        "colab": {
          "base_uri": "https://localhost:8080/",
          "height": 279
        },
        "id": "TzLr-U9l_6Sk",
        "outputId": "d3bde312-c469-4e70-ed03-e8ba35e24167"
      },
      "execution_count": 10,
      "outputs": [
        {
          "output_type": "display_data",
          "data": {
            "text/plain": [
              "<Figure size 432x288 with 1 Axes>"
            ],
            "image/png": "[encoded data removed]"
          },
          "metadata": {
            "needs_background": "light"
          }
        }
      ]
    },
    {
      "cell_type": "markdown",
      "source": [
        "**Bank has 80% retention rate**, while 20% customers left the bank, in the ten year duration of the data."
      ],
      "metadata": {
        "id": "EpnZReO7YWwv"
      }
    },
    {
      "cell_type": "markdown",
      "source": [
        "----"
      ],
      "metadata": {
        "id": "DngGy7QcYwKp"
      }
    },
    {
      "cell_type": "markdown",
      "source": [
        "**Correlation of Variables**\n",
        "\n",
        "1. Correlation between churn and other variables\n",
        "2. Correlation between predictor variables"
      ],
      "metadata": {
        "id": "nNUi2qtcYwln"
      }
    },
    {
      "cell_type": "code",
      "source": [
        "##Correlation\n",
        "data2 = data.drop(columns='Exited')\n",
        "tmp_  = data2.corrwith(data['Exited']).plot.bar(\n",
        "    figsize=(10,5),title=\"Correlated with Customer Churn\",\n",
        "    rot=45,grid=True)\n",
        "\n",
        "corr = data2.corr()\n",
        "plt.figure(figsize=(10,5))\n",
        "ax_ = sns.heatmap(corr,annot=True,linewidth=0.5,cmap=\"YlGnBu\")\n",
        "tmp_= ax_.set_title('Correlations between Variables')"
      ],
      "metadata": {
        "id": "pKq-wv-okO9s",
        "colab": {
          "base_uri": "https://localhost:8080/",
          "height": 781
        },
        "outputId": "5f0367c4-8c62-40f1-8466-5e7fe092fb53"
      },
      "execution_count": 11,
      "outputs": [
        {
          "output_type": "display_data",
          "data": {
            "text/plain": [
              "<Figure size 720x360 with 1 Axes>"
            ],
            "image/png": "[encoded data removed]"
          },
          "metadata": {
            "needs_background": "light"
          }
        },
        {
          "output_type": "display_data",
          "data": {
            "text/plain": [
              "<Figure size 720x360 with 2 Axes>"
            ],
            "image/png": "[encoded data removed]"
          },
          "metadata": {
            "needs_background": "light"
          }
        }
      ]
    },
    {
      "cell_type": "markdown",
      "source": [
        "* We see that all variables show some correlation with churn, and are therefore useful in modeling. Specifically, Age and active memeber is correlated well. \n",
        "* Among the predictor variable the Balance and NumProducts are have opposite coorelation. So, high balance customer have fewer products.\n",
        "* Since Geography is non-numeric and categorical variable, its correlation cannot be calculated. Instead, we look at chi2 test to establish its significance for predicting churn."
      ],
      "metadata": {
        "id": "BitHRTlIZXUS"
      }
    },
    {
      "cell_type": "markdown",
      "source": [
        "**Chi2 Test**"
      ],
      "metadata": {
        "id": "wm3i-VPAaaNl"
      }
    },
    {
      "cell_type": "code",
      "source": [
        "chi2_arr, p_arr = [],[]\n",
        "#crosstab = pd.crosstab(data['Geography'],data['Exited'],margins=True)\n",
        "for column in var_cat: \n",
        "  crosstab = pd.crosstab(data[column],data['Exited'])\n",
        "  chi2,p,dof,exp = chi2_contingency(crosstab)\n",
        "  chi2_arr.append(chi2)\n",
        "  p_arr.append(p)\n",
        "\n",
        "data_chi2 = pd.DataFrame({'Variable':var_cat,'Chi2':chi2_arr,\n",
        "                          'p-value':p_arr})\n",
        "data_chi2.sort_values(by='Chi2',ascending=False) "
      ],
      "metadata": {
        "colab": {
          "base_uri": "https://localhost:8080/",
          "height": 238
        },
        "id": "nV_Vrz_ySq08",
        "outputId": "97c07079-ec5e-490f-9a53-71a1495fb671"
      },
      "execution_count": 12,
      "outputs": [
        {
          "output_type": "execute_result",
          "data": {
            "text/plain": [
              "         Variable         Chi2       p-value\n",
              "3   NumOfProducts  1503.629362  0.000000e+00\n",
              "0       Geography   301.255337  3.830318e-66\n",
              "5  IsActiveMember   242.985342  8.785858e-55\n",
              "1          Gender   112.918571  2.248210e-26\n",
              "2          Tenure    13.900373  1.775846e-01\n",
              "4       HasCrCard     0.471338  4.923724e-01"
            ],
            "text/html": [
              "\n",
              "  <div id=\"df-6ca1f74c-9004-4bf0-810e-fc71661f48ec\">\n",
              "    <div class=\"colab-df-container\">\n",
              "      <div>\n",
              "<style scoped>\n",
              "    .dataframe tbody tr th:only-of-type {\n",
              "        vertical-align: middle;\n",
              "    }\n",
              "\n",
              "    .dataframe tbody tr th {\n",
              "        vertical-align: top;\n",
              "    }\n",
              "\n",
              "    .dataframe thead th {\n",
              "        text-align: right;\n",
              "    }\n",
              "</style>\n",
              "<table border=\"1\" class=\"dataframe\">\n",
              "  <thead>\n",
              "    <tr style=\"text-align: right;\">\n",
              "      <th></th>\n",
              "      <th>Variable</th>\n",
              "      <th>Chi2</th>\n",
              "      <th>p-value</th>\n",
              "    </tr>\n",
              "  </thead>\n",
              "  <tbody>\n",
              "    <tr>\n",
              "      <th>3</th>\n",
              "      <td>NumOfProducts</td>\n",
              "      <td>1503.629362</td>\n",
              "      <td>0.000000e+00</td>\n",
              "    </tr>\n",
              "    <tr>\n",
              "      <th>0</th>\n",
              "      <td>Geography</td>\n",
              "      <td>301.255337</td>\n",
              "      <td>3.830318e-66</td>\n",
              "    </tr>\n",
              "    <tr>\n",
              "      <th>5</th>\n",
              "      <td>IsActiveMember</td>\n",
              "      <td>242.985342</td>\n",
              "      <td>8.785858e-55</td>\n",
              "    </tr>\n",
              "    <tr>\n",
              "      <th>1</th>\n",
              "      <td>Gender</td>\n",
              "      <td>112.918571</td>\n",
              "      <td>2.248210e-26</td>\n",
              "    </tr>\n",
              "    <tr>\n",
              "      <th>2</th>\n",
              "      <td>Tenure</td>\n",
              "      <td>13.900373</td>\n",
              "      <td>1.775846e-01</td>\n",
              "    </tr>\n",
              "    <tr>\n",
              "      <th>4</th>\n",
              "      <td>HasCrCard</td>\n",
              "      <td>0.471338</td>\n",
              "      <td>4.923724e-01</td>\n",
              "    </tr>\n",
              "  </tbody>\n",
              "</table>\n",
              "</div>\n",
              "      <button class=\"colab-df-convert\" onclick=\"convertToInteractive('df-6ca1f74c-9004-4bf0-810e-fc71661f48ec')\"\n",
              "              title=\"Convert this dataframe to an interactive table.\"\n",
              "              style=\"display:none;\">\n",
              "        \n",
              "  <svg xmlns=\"http://www.w3.org/2000/svg\" height=\"24px\"viewBox=\"0 0 24 24\"\n",
              "       width=\"24px\">\n",
              "    <path d=\"M0 0h24v24H0V0z\" fill=\"none\"/>\n",
              "    <path d=\"M18.56 5.44l.94 2.06.94-2.06 2.06-.94-2.06-.94-.94-2.06-.94 2.06-2.06.94zm-11 1L8.5 8.5l.94-2.06 2.06-.94-2.06-.94L8.5 2.5l-.94 2.06-2.06.94zm10 10l.94 2.06.94-2.06 2.06-.94-2.06-.94-.94-2.06-.94 2.06-2.06.94z\"/><path d=\"M17.41 7.96l-1.37-1.37c-.4-.4-.92-.59-1.43-.59-.52 0-1.04.2-1.43.59L10.3 9.45l-7.72 7.72c-.78.78-.78 2.05 0 2.83L4 21.41c.39.39.9.59 1.41.59.51 0 1.02-.2 1.41-.59l7.78-7.78 2.81-2.81c.8-.78.8-2.07 0-2.86zM5.41 20L4 18.59l7.72-7.72 1.47 1.35L5.41 20z\"/>\n",
              "  </svg>\n",
              "      </button>\n",
              "      \n",
              "  <style>\n",
              "    .colab-df-container {\n",
              "      display:flex;\n",
              "      flex-wrap:wrap;\n",
              "      gap: 12px;\n",
              "    }\n",
              "\n",
              "    .colab-df-convert {\n",
              "      background-color: #E8F0FE;\n",
              "      border: none;\n",
              "      border-radius: 50%;\n",
              "      cursor: pointer;\n",
              "      display: none;\n",
              "      fill: #1967D2;\n",
              "      height: 32px;\n",
              "      padding: 0 0 0 0;\n",
              "      width: 32px;\n",
              "    }\n",
              "\n",
              "    .colab-df-convert:hover {\n",
              "      background-color: #E2EBFA;\n",
              "      box-shadow: 0px 1px 2px rgba(60, 64, 67, 0.3), 0px 1px 3px 1px rgba(60, 64, 67, 0.15);\n",
              "      fill: #174EA6;\n",
              "    }\n",
              "\n",
              "    [theme=dark] .colab-df-convert {\n",
              "      background-color: #3B4455;\n",
              "      fill: #D2E3FC;\n",
              "    }\n",
              "\n",
              "    [theme=dark] .colab-df-convert:hover {\n",
              "      background-color: #434B5C;\n",
              "      box-shadow: 0px 1px 3px 1px rgba(0, 0, 0, 0.15);\n",
              "      filter: drop-shadow(0px 1px 2px rgba(0, 0, 0, 0.3));\n",
              "      fill: #FFFFFF;\n",
              "    }\n",
              "  </style>\n",
              "\n",
              "      <script>\n",
              "        const buttonEl =\n",
              "          document.querySelector('#df-6ca1f74c-9004-4bf0-810e-fc71661f48ec button.colab-df-convert');\n",
              "        buttonEl.style.display =\n",
              "          google.colab.kernel.accessAllowed ? 'block' : 'none';\n",
              "\n",
              "        async function convertToInteractive(key) {\n",
              "          const element = document.querySelector('#df-6ca1f74c-9004-4bf0-810e-fc71661f48ec');\n",
              "          const dataTable =\n",
              "            await google.colab.kernel.invokeFunction('convertToInteractive',\n",
              "                                                     [key], {});\n",
              "          if (!dataTable) return;\n",
              "\n",
              "          const docLinkHtml = 'Like what you see? Visit the ' +\n",
              "            '<a target=\"_blank\" href=https://colab.research.google.com/notebooks/data_table.ipynb>data table notebook</a>'\n",
              "            + ' to learn more about interactive tables.';\n",
              "          element.innerHTML = '';\n",
              "          dataTable['output_type'] = 'display_data';\n",
              "          await google.colab.output.renderOutput(dataTable, element);\n",
              "          const docLink = document.createElement('div');\n",
              "          docLink.innerHTML = docLinkHtml;\n",
              "          element.appendChild(docLink);\n",
              "        }\n",
              "      </script>\n",
              "    </div>\n",
              "  </div>\n",
              "  "
            ]
          },
          "metadata": {},
          "execution_count": 12
        }
      ]
    },
    {
      "cell_type": "markdown",
      "source": [
        "Geography does predict customer churn, since it has high chi2 calculated from the contigency table."
      ],
      "metadata": {
        "id": "zUbvh0BeafrS"
      }
    },
    {
      "cell_type": "markdown",
      "source": [
        "##Pre-processing Data"
      ],
      "metadata": {
        "id": "2ZmtEFpgbNdC"
      }
    },
    {
      "cell_type": "markdown",
      "source": [
        "**One-hot Variables: Geography, Gender**"
      ],
      "metadata": {
        "id": "YHnSFLO2bDrj"
      }
    },
    {
      "cell_type": "code",
      "source": [
        "data_fit = data.drop(columns=['Geography','Gender'])\n",
        "dd1=pd.get_dummies(data['Geography'])\n",
        "dd2=pd.get_dummies(data['Gender'],drop_first=True)\n",
        "data_fit = pd.concat([data_fit.iloc[:,:-1],\\\n",
        "                      dd1,dd2,\n",
        "                      data_fit.iloc[:,-1]],axis=1)\n",
        "print(data_fit.columns.sort_values())"
      ],
      "metadata": {
        "colab": {
          "base_uri": "https://localhost:8080/"
        },
        "id": "fxOIkDz7nhpn",
        "outputId": "2fb724a4-84a5-414a-b8f3-72506d692ad8"
      },
      "execution_count": 13,
      "outputs": [
        {
          "output_type": "stream",
          "name": "stdout",
          "text": [
            "Index(['Age', 'Balance', 'CreditScore', 'EstimatedSalary', 'Exited', 'France',\n",
            "       'Germany', 'HasCrCard', 'IsActiveMember', 'Male', 'NumOfProducts',\n",
            "       'Spain', 'Tenure'],\n",
            "      dtype='object')\n"
          ]
        }
      ]
    },
    {
      "cell_type": "markdown",
      "source": [
        "**Train/Test Split And Data Scaling**"
      ],
      "metadata": {
        "id": "gxRkG7W1bXxJ"
      }
    },
    {
      "cell_type": "code",
      "source": [
        "#------------------------------------#\n",
        "train_data,test_data = \\\n",
        "train_test_split(data_fit,test_size=0.4,random_state=15)\n",
        "print (\"Train data\",train_data.shape)\n",
        "print (\"Test  data\",test_data.shape )\n",
        "\n",
        "#Feature Scaling\n",
        "from sklearn.preprocessing import StandardScaler\n",
        "sc = StandardScaler()\n",
        "scl_columns = ['Age','Balance','CreditScore','EstimatedSalary']\n",
        "train_data[scl_columns] = sc.fit_transform(train_data [scl_columns])\n",
        "test_data [scl_columns] = sc.transform    (test_data  [scl_columns])\n",
        "\n",
        "#-----------------------------------#\n",
        "##Imbalanced sample\n",
        "from imblearn.over_sampling import SMOTE\n",
        "over = SMOTE(sampling_strategy='auto',random_state=15)\n",
        "x_train,y_train = train_data.iloc[:,:-1], train_data.iloc[:,-1]\n",
        "x_test ,y_test  = test_data .iloc[:,:-1], test_data .iloc[:,-1]\n",
        "x_train_smt, y_train_smt = over.fit_resample(x_train,y_train)\n",
        "\n",
        "print (\"Train: x\",x_train.shape,\"y\",y_train.shape)\n",
        "print (\"Test : x\",x_test .shape,\"y\",y_test .shape)\n",
        "print (\"SMOTE\")\n",
        "print(\"Train: x\",x_train_smt.shape,\\\n",
        "             \"y\",y_train_smt.shape)\n",
        "print(\"Test : x\",x_train_smt.shape,\\\n",
        "              \"y\",y_train_smt.shape)\n",
        "\n",
        "\n"
      ],
      "metadata": {
        "colab": {
          "base_uri": "https://localhost:8080/"
        },
        "id": "-ddkt_P5QJgx",
        "outputId": "386e1721-3925-4e37-a14b-87ab9a39f7d6"
      },
      "execution_count": 14,
      "outputs": [
        {
          "output_type": "stream",
          "name": "stdout",
          "text": [
            "Train data (6000, 13)\n",
            "Test  data (4000, 13)\n",
            "Train: x (6000, 12) y (6000,)\n",
            "Test : x (4000, 12) y (4000,)\n",
            "SMOTE\n",
            "Train: x (9552, 12) y (9552,)\n",
            "Test : x (9552, 12) y (9552,)\n"
          ]
        }
      ]
    },
    {
      "cell_type": "markdown",
      "source": [
        "\n",
        "##Machine Learning Models"
      ],
      "metadata": {
        "id": "DKkOAINKgC7s"
      }
    },
    {
      "cell_type": "markdown",
      "source": [
        "**Baseline Performance and Models with Cross-Validation**\n",
        "\n",
        "1. The following classifiers are test:\n",
        "  * Logistic Regression\n",
        "  * Naive Bayes\n",
        "  * SVC\n",
        "  * GB Decision Trees\n",
        "  * Random Forest\n",
        "  * KNN\n",
        "  * MLP Neural Net\n",
        "\n",
        "2. Accuracy metric is used for calculating score."
      ],
      "metadata": {
        "id": "IQDVl6gnbgGg"
      }
    },
    {
      "cell_type": "code",
      "source": [
        "import sys\n",
        "sys.path.append('MyDrive/modules')\n",
        "from customer_churn_util import * \n",
        "\n",
        "#Collection of Models\n",
        "models = {\n",
        "    \"Logistic Regression\": LogisticRegression(random_state=10),\n",
        "    \"Gaussian NB\":GaussianNB(),\n",
        "    \"SVC\":SVC(),\n",
        "    \"Random Forest\":RandomForestClassifier(random_state=10),\n",
        "    \"Gradient Boosted\":GradientBoostingClassifier(random_state=10),\n",
        "    \"KNN\":KNeighborsClassifier(n_neighbors=10, n_jobs=-1),\n",
        "    \"Neural Net\":MLPClassifier(hidden_layer_sizes=(50,25,25,1)),\n",
        "}\n",
        "\n",
        "#Train each model, and cross validate (k-fold)\n",
        "for model in models:\n",
        "  m_  = models[model]\n",
        "  sc1 = cross_val_score(m_, x_train, y_train, cv = 5,\n",
        "                       n_jobs = -1,\n",
        "                       scoring= cv_scoring)\n",
        "  sc2 = cross_val_score(m_, x_train_smt, y_train_smt, cv = 5,\n",
        "                       n_jobs = -1,\n",
        "                       scoring= cv_scoring)\n",
        "\n",
        "\n",
        "  print(\"--\"*10)\n",
        "  print(\"{0:20s} - Avg: {1:5.2f} (Unbalanced),  {2:5.2f} (SMOTE) \".format(\\\n",
        "        model, np.mean(sc1), np.mean(sc2)))\n",
        "  \n"
      ],
      "metadata": {
        "colab": {
          "base_uri": "https://localhost:8080/"
        },
        "id": "5Ikdf-lZgHu2",
        "outputId": "f1588370-4e21-4bdd-93d9-a5e6e3e465d6"
      },
      "execution_count": 15,
      "outputs": [
        {
          "output_type": "stream",
          "name": "stdout",
          "text": [
            "--------------------\n",
            "Logistic Regression  - Avg:  0.81 (Unbalanced),   0.76 (SMOTE) \n",
            "--------------------\n",
            "Gaussian NB          - Avg:  0.82 (Unbalanced),   0.76 (SMOTE) \n",
            "--------------------\n",
            "SVC                  - Avg:  0.81 (Unbalanced),   0.80 (SMOTE) \n",
            "--------------------\n",
            "Random Forest        - Avg:  0.86 (Unbalanced),   0.89 (SMOTE) \n",
            "--------------------\n",
            "Gradient Boosted     - Avg:  0.86 (Unbalanced),   0.85 (SMOTE) \n",
            "--------------------\n",
            "KNN                  - Avg:  0.82 (Unbalanced),   0.85 (SMOTE) \n",
            "--------------------\n",
            "Neural Net           - Avg:  0.82 (Unbalanced),   0.57 (SMOTE) \n"
          ]
        }
      ]
    },
    {
      "cell_type": "markdown",
      "source": [
        "Overall, we see good performance, and Random Forest classifier gives the best accuracy.\n",
        "Next, tune RandomForest to give the best performance and examine different metrics."
      ],
      "metadata": {
        "id": "YSRtRJptcCYf"
      }
    },
    {
      "cell_type": "markdown",
      "source": [
        "---\n"
      ],
      "metadata": {
        "id": "N0NkSbEQjHTk"
      }
    },
    {
      "cell_type": "markdown",
      "source": [
        "**Tuning Random Forest**"
      ],
      "metadata": {
        "id": "lQjucWVMjV7L"
      }
    },
    {
      "cell_type": "code",
      "source": [
        "dt_score  = (x_train,y_train,x_test,y_test)\n",
        "class_rf1 = RandomForestClassifier(random_state=0)\n",
        "scores1, scores1_tr = get_scores (class_rf1,*dt_score)\n",
        "\n",
        "class_rf2 = RandomForestClassifier(random_state=0,n_estimators=150,\n",
        "                                   max_features=12,\n",
        "                                   max_depth=10, min_samples_leaf=5,\n",
        "                                   class_weight=\"balanced\")\n",
        "scores2, scores2_tr = get_scores (class_rf2,*dt_score)\n",
        "\n",
        "\n",
        "dt_score  = (x_train_smt,y_train_smt,x_test,y_test)\n",
        "class_rf3 = RandomForestClassifier(random_state=0,n_estimators=120,\n",
        "                                   max_features=12,\n",
        "                                   max_depth=10, min_samples_leaf=1,\n",
        "                                   class_weight=\"balanced\")\n",
        "\n",
        "scores3, scores3_tr = get_scores (class_rf3,*dt_score)\n",
        "#-------------------------------------------------------------------------------#\n",
        "all_scores = pd.DataFrame(index=['Accuracy','TPR (Recall)',\n",
        "                                 'TNR','AUC'])\n",
        "\n",
        "all_scores[\"Train\"]             = scores1_tr[0], scores1_tr[1], scores1_tr[6],scores1_tr[2]\n",
        "all_scores[\"Default Pars\"]      = scores1[0], scores1[1], scores1[6],scores1[2]\n",
        "all_scores[\"Tuned Pars\"]        = scores2[0], scores2[1], scores2[6],scores2[2]\n",
        "all_scores[\"Tuned Pars+SMOTE\"]  = scores3[0], scores3[1], scores3[6],scores3[2]\n",
        "\n",
        "print(\"RandomForest Scores Table\")\n",
        "all_scores.T"
      ],
      "metadata": {
        "id": "3TPT6q7vRbHC",
        "colab": {
          "base_uri": "https://localhost:8080/",
          "height": 193
        },
        "outputId": "a210324d-63aa-41a1-b4c1-2523df9ee398"
      },
      "execution_count": 16,
      "outputs": [
        {
          "output_type": "stream",
          "name": "stdout",
          "text": [
            "RandomForest Scores Table\n"
          ]
        },
        {
          "output_type": "execute_result",
          "data": {
            "text/plain": [
              "                  Accuracy  TPR (Recall)       TNR       AUC\n",
              "Train                1.000      1.000000  1.000000  1.000000\n",
              "Default Pars         0.858      0.452645  0.961406  0.707025\n",
              "Tuned Pars           0.843      0.672817  0.886414  0.779615\n",
              "Tuned Pars+SMOTE     0.813      0.626076  0.860684  0.743380"
            ],
            "text/html": [
              "\n",
              "  <div id=\"df-8cd385be-550f-450d-885f-2a35f61bae30\">\n",
              "    <div class=\"colab-df-container\">\n",
              "      <div>\n",
              "<style scoped>\n",
              "    .dataframe tbody tr th:only-of-type {\n",
              "        vertical-align: middle;\n",
              "    }\n",
              "\n",
              "    .dataframe tbody tr th {\n",
              "        vertical-align: top;\n",
              "    }\n",
              "\n",
              "    .dataframe thead th {\n",
              "        text-align: right;\n",
              "    }\n",
              "</style>\n",
              "<table border=\"1\" class=\"dataframe\">\n",
              "  <thead>\n",
              "    <tr style=\"text-align: right;\">\n",
              "      <th></th>\n",
              "      <th>Accuracy</th>\n",
              "      <th>TPR (Recall)</th>\n",
              "      <th>TNR</th>\n",
              "      <th>AUC</th>\n",
              "    </tr>\n",
              "  </thead>\n",
              "  <tbody>\n",
              "    <tr>\n",
              "      <th>Train</th>\n",
              "      <td>1.000</td>\n",
              "      <td>1.000000</td>\n",
              "      <td>1.000000</td>\n",
              "      <td>1.000000</td>\n",
              "    </tr>\n",
              "    <tr>\n",
              "      <th>Default Pars</th>\n",
              "      <td>0.858</td>\n",
              "      <td>0.452645</td>\n",
              "      <td>0.961406</td>\n",
              "      <td>0.707025</td>\n",
              "    </tr>\n",
              "    <tr>\n",
              "      <th>Tuned Pars</th>\n",
              "      <td>0.843</td>\n",
              "      <td>0.672817</td>\n",
              "      <td>0.886414</td>\n",
              "      <td>0.779615</td>\n",
              "    </tr>\n",
              "    <tr>\n",
              "      <th>Tuned Pars+SMOTE</th>\n",
              "      <td>0.813</td>\n",
              "      <td>0.626076</td>\n",
              "      <td>0.860684</td>\n",
              "      <td>0.743380</td>\n",
              "    </tr>\n",
              "  </tbody>\n",
              "</table>\n",
              "</div>\n",
              "      <button class=\"colab-df-convert\" onclick=\"convertToInteractive('df-8cd385be-550f-450d-885f-2a35f61bae30')\"\n",
              "              title=\"Convert this dataframe to an interactive table.\"\n",
              "              style=\"display:none;\">\n",
              "        \n",
              "  <svg xmlns=\"http://www.w3.org/2000/svg\" height=\"24px\"viewBox=\"0 0 24 24\"\n",
              "       width=\"24px\">\n",
              "    <path d=\"M0 0h24v24H0V0z\" fill=\"none\"/>\n",
              "    <path d=\"M18.56 5.44l.94 2.06.94-2.06 2.06-.94-2.06-.94-.94-2.06-.94 2.06-2.06.94zm-11 1L8.5 8.5l.94-2.06 2.06-.94-2.06-.94L8.5 2.5l-.94 2.06-2.06.94zm10 10l.94 2.06.94-2.06 2.06-.94-2.06-.94-.94-2.06-.94 2.06-2.06.94z\"/><path d=\"M17.41 7.96l-1.37-1.37c-.4-.4-.92-.59-1.43-.59-.52 0-1.04.2-1.43.59L10.3 9.45l-7.72 7.72c-.78.78-.78 2.05 0 2.83L4 21.41c.39.39.9.59 1.41.59.51 0 1.02-.2 1.41-.59l7.78-7.78 2.81-2.81c.8-.78.8-2.07 0-2.86zM5.41 20L4 18.59l7.72-7.72 1.47 1.35L5.41 20z\"/>\n",
              "  </svg>\n",
              "      </button>\n",
              "      \n",
              "  <style>\n",
              "    .colab-df-container {\n",
              "      display:flex;\n",
              "      flex-wrap:wrap;\n",
              "      gap: 12px;\n",
              "    }\n",
              "\n",
              "    .colab-df-convert {\n",
              "      background-color: #E8F0FE;\n",
              "      border: none;\n",
              "      border-radius: 50%;\n",
              "      cursor: pointer;\n",
              "      display: none;\n",
              "      fill: #1967D2;\n",
              "      height: 32px;\n",
              "      padding: 0 0 0 0;\n",
              "      width: 32px;\n",
              "    }\n",
              "\n",
              "    .colab-df-convert:hover {\n",
              "      background-color: #E2EBFA;\n",
              "      box-shadow: 0px 1px 2px rgba(60, 64, 67, 0.3), 0px 1px 3px 1px rgba(60, 64, 67, 0.15);\n",
              "      fill: #174EA6;\n",
              "    }\n",
              "\n",
              "    [theme=dark] .colab-df-convert {\n",
              "      background-color: #3B4455;\n",
              "      fill: #D2E3FC;\n",
              "    }\n",
              "\n",
              "    [theme=dark] .colab-df-convert:hover {\n",
              "      background-color: #434B5C;\n",
              "      box-shadow: 0px 1px 3px 1px rgba(0, 0, 0, 0.15);\n",
              "      filter: drop-shadow(0px 1px 2px rgba(0, 0, 0, 0.3));\n",
              "      fill: #FFFFFF;\n",
              "    }\n",
              "  </style>\n",
              "\n",
              "      <script>\n",
              "        const buttonEl =\n",
              "          document.querySelector('#df-8cd385be-550f-450d-885f-2a35f61bae30 button.colab-df-convert');\n",
              "        buttonEl.style.display =\n",
              "          google.colab.kernel.accessAllowed ? 'block' : 'none';\n",
              "\n",
              "        async function convertToInteractive(key) {\n",
              "          const element = document.querySelector('#df-8cd385be-550f-450d-885f-2a35f61bae30');\n",
              "          const dataTable =\n",
              "            await google.colab.kernel.invokeFunction('convertToInteractive',\n",
              "                                                     [key], {});\n",
              "          if (!dataTable) return;\n",
              "\n",
              "          const docLinkHtml = 'Like what you see? Visit the ' +\n",
              "            '<a target=\"_blank\" href=https://colab.research.google.com/notebooks/data_table.ipynb>data table notebook</a>'\n",
              "            + ' to learn more about interactive tables.';\n",
              "          element.innerHTML = '';\n",
              "          dataTable['output_type'] = 'display_data';\n",
              "          await google.colab.output.renderOutput(dataTable, element);\n",
              "          const docLink = document.createElement('div');\n",
              "          docLink.innerHTML = docLinkHtml;\n",
              "          element.appendChild(docLink);\n",
              "        }\n",
              "      </script>\n",
              "    </div>\n",
              "  </div>\n",
              "  "
            ]
          },
          "metadata": {},
          "execution_count": 16
        }
      ]
    },
    {
      "cell_type": "markdown",
      "source": [
        "**Metrics, Class Balancing**\n",
        "\n",
        "The classifiers do a good job identifying the negative cases, ie when a customer stays with the bank. Since this is the majority class (80%), training is easier. But we are really interested in the opposite, accurately identifying when customer will leave (positive case). \n",
        "\n",
        "1. The following *metrics* are used: **Accuracy, Recall** (true positive rate), **Specificty** (true negative rate), and **auc** (relative distribution of positive and negative rates at various classifying thresholds).\n",
        "2. The class imbalance between postive and negative cases is addressed by RandomForest function with class_weight option, and by independently scaling data to equalize class population using SMOTE function. Testing both methods, we find recall and specificty improve with balanced classes, and the RandomForest in-built function works best. **Customer churn (TNR)is identified with 67% accuracy.**"
      ],
      "metadata": {
        "id": "t7k8-gNsfbf7"
      }
    },
    {
      "cell_type": "markdown",
      "source": [
        "**Feature Importances**"
      ],
      "metadata": {
        "id": "_M0lzOjOitAr"
      }
    },
    {
      "cell_type": "code",
      "source": [
        "#Feature Importances\n",
        "f_importance = class_rf2.feature_importances_\n",
        "f_names      = class_rf2.feature_names_in_\n",
        "f_dict  = { i:j for i,j in zip(f_names,f_importance)}\n",
        "f_table = pd.DataFrame(f_dict,index=[\"Importance\"])\n",
        "f_table = f_table.T.sort_values(by='Importance',ascending=True)"
      ],
      "metadata": {
        "id": "Cbajgcfl_9lK"
      },
      "execution_count": 17,
      "outputs": []
    },
    {
      "cell_type": "code",
      "source": [
        "ax  = f_table.plot.barh(color='steelblue',legend=False)\n",
        "txt = ax.set_xlabel('Importance')\n",
        "txt = ax.set_title(\"Random Forest Classifier\")"
      ],
      "metadata": {
        "id": "nERYL_Ubagmg",
        "colab": {
          "base_uri": "https://localhost:8080/",
          "height": 295
        },
        "outputId": "d1255411-67da-4e15-bd69-6a25b6d24093"
      },
      "execution_count": 19,
      "outputs": [
        {
          "output_type": "display_data",
          "data": {
            "text/plain": [
              "<Figure size 432x288 with 1 Axes>"
            ],
            "image/png": "[encoded data removed]"
          },
          "metadata": {
            "needs_background": "light"
          }
        }
      ]
    },
    {
      "cell_type": "markdown",
      "source": [
        "The most important features to determine if the customer will leave bank are age, number of products purchased, and balance."
      ],
      "metadata": {
        "id": "9zfJvww3jp9U"
      }
    },
    {
      "cell_type": "markdown",
      "source": [
        "**Conclusions**\n",
        "\n",
        "Finally, we conclude the following from the analysis. \n",
        "* age, number of purchased products, and balance primarily contribute to customers leaving the bank. \n",
        "* the ML model can identify using customer data  customer rentention at 88%, and customer churn at 67% accuracy."
      ],
      "metadata": {
        "id": "R-GjxFAVj6QX"
      }
    }
  ]
}