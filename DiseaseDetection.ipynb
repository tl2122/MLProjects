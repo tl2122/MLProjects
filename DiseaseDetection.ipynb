{
  "nbformat": 4,
  "nbformat_minor": 0,
  "metadata": {
    "colab": {
      "name": "DiseaseDetection.ipynb",
      "provenance": [],
      "collapsed_sections": []
    },
    "kernelspec": {
      "name": "python3",
      "display_name": "Python 3"
    },
    "language_info": {
      "name": "python"
    }
  },
  "cells": [
    {
      "cell_type": "markdown",
      "source": [
        "#Disease Detection with Machine Learning\n",
        "\n",
        "In this workbook, machine learning techniques are applied to disease prediction and diagnosis, using a list of symtoms. Various models are tested; the final results combines the output from all models."
      ],
      "metadata": {
        "id": "KC2Uz4pj-Nqt"
      }
    },
    {
      "cell_type": "code",
      "execution_count": 2,
      "metadata": {
        "colab": {
          "base_uri": "https://localhost:8080/"
        },
        "id": "J1s9iUO3bdHB",
        "outputId": "c1b87f84-dd36-43f4-d684-5db235747916"
      },
      "outputs": [
        {
          "output_type": "stream",
          "name": "stdout",
          "text": [
            "Mounted at /gdrive\n",
            "/gdrive\n"
          ]
        }
      ],
      "source": [
        "from google.colab import drive\n",
        "drive.mount('/gdrive')\n",
        "%cd /gdrive"
      ]
    },
    {
      "cell_type": "markdown",
      "source": [
        "**Import Libs**"
      ],
      "metadata": {
        "id": "qDbS7xapekd-"
      }
    },
    {
      "cell_type": "code",
      "source": [
        "from scipy.stats import mode\n",
        "import pandas as pd\n",
        "import numpy as np\n",
        "import matplotlib.pyplot as plt\n",
        "import seaborn as sns\n",
        "from sklearn.preprocessing import LabelEncoder\n",
        "from sklearn.model_selection import train_test_split, cross_val_score\n",
        "from sklearn.svm import SVC\n",
        "from sklearn.naive_bayes import GaussianNB\n",
        "from sklearn.ensemble import RandomForestClassifier, GradientBoostingClassifier \n",
        "from sklearn.metrics import accuracy_score, confusion_matrix\n",
        "%matplotlib inline"
      ],
      "metadata": {
        "id": "F3kzETXCcSF8"
      },
      "execution_count": 3,
      "outputs": []
    },
    {
      "cell_type": "markdown",
      "source": [
        "####Pre-processing and Data exploration"
      ],
      "metadata": {
        "id": "25ZMusJN_62_"
      }
    },
    {
      "cell_type": "markdown",
      "source": [
        "**Import Data**"
      ],
      "metadata": {
        "id": "oFj40xo6eroT"
      }
    },
    {
      "cell_type": "code",
      "source": [
        "data_train = pd.read_csv('MyDrive/MLData/Training_dispred.csv') \n",
        "data_valdt  = pd.read_csv('MyDrive/MLData/Testing_dispred.csv') "
      ],
      "metadata": {
        "id": "9Zy9sHtidO8s"
      },
      "execution_count": 4,
      "outputs": []
    },
    {
      "cell_type": "code",
      "source": [
        "data_train.dtypes"
      ],
      "metadata": {
        "colab": {
          "base_uri": "https://localhost:8080/"
        },
        "id": "V5oRzMV-jJ2M",
        "outputId": "f8dc26e1-aba0-4d3e-c7fc-13e155be674a"
      },
      "execution_count": 5,
      "outputs": [
        {
          "output_type": "execute_result",
          "data": {
            "text/plain": [
              "itching                   int64\n",
              "skin_rash                 int64\n",
              "nodal_skin_eruptions      int64\n",
              "continuous_sneezing       int64\n",
              "shivering                 int64\n",
              "                         ...   \n",
              "blister                   int64\n",
              "red_sore_around_nose      int64\n",
              "yellow_crust_ooze         int64\n",
              "prognosis                object\n",
              "Unnamed: 133            float64\n",
              "Length: 134, dtype: object"
            ]
          },
          "metadata": {},
          "execution_count": 5
        }
      ]
    },
    {
      "cell_type": "code",
      "source": [
        "data_train.count()"
      ],
      "metadata": {
        "colab": {
          "base_uri": "https://localhost:8080/"
        },
        "id": "5Ngr-s7yg4o5",
        "outputId": "cec892fa-2f01-4b78-bf18-025267e4cf0f"
      },
      "execution_count": 6,
      "outputs": [
        {
          "output_type": "execute_result",
          "data": {
            "text/plain": [
              "itching                 4920\n",
              "skin_rash               4920\n",
              "nodal_skin_eruptions    4920\n",
              "continuous_sneezing     4920\n",
              "shivering               4920\n",
              "                        ... \n",
              "blister                 4920\n",
              "red_sore_around_nose    4920\n",
              "yellow_crust_ooze       4920\n",
              "prognosis               4920\n",
              "Unnamed: 133               0\n",
              "Length: 134, dtype: int64"
            ]
          },
          "metadata": {},
          "execution_count": 6
        }
      ]
    },
    {
      "cell_type": "markdown",
      "source": [
        "Drop an empty column."
      ],
      "metadata": {
        "id": "KAvmG_biMtLy"
      }
    },
    {
      "cell_type": "code",
      "source": [
        "data_train.drop('Unnamed: 133',axis=1,inplace=True)\n",
        "len(data_train.columns)"
      ],
      "metadata": {
        "id": "vk5prkix2Er-",
        "colab": {
          "base_uri": "https://localhost:8080/"
        },
        "outputId": "ada91e79-3d17-4cc2-a5be-a41b3b36ee1e"
      },
      "execution_count": 7,
      "outputs": [
        {
          "output_type": "execute_result",
          "data": {
            "text/plain": [
              "133"
            ]
          },
          "metadata": {},
          "execution_count": 7
        }
      ]
    },
    {
      "cell_type": "code",
      "source": [
        "diseases  = np.unique(data_train[['prognosis']])\n",
        "ndiseases = len(diseases)\n",
        "print(\"Number of Diseses\",ndiseases) "
      ],
      "metadata": {
        "colab": {
          "base_uri": "https://localhost:8080/"
        },
        "id": "GXMIBT84gKrI",
        "outputId": "3192f5ad-4ec5-4332-ebed-be73486700d9"
      },
      "execution_count": 8,
      "outputs": [
        {
          "output_type": "stream",
          "name": "stdout",
          "text": [
            "Number of Diseses 41\n"
          ]
        }
      ]
    },
    {
      "cell_type": "code",
      "source": [
        "data_train['prognosis'].value_counts()"
      ],
      "metadata": {
        "colab": {
          "base_uri": "https://localhost:8080/"
        },
        "id": "HmHSEYnAhPRh",
        "outputId": "ccc08ba1-5fa4-4da8-c254-1aa84443b4bc"
      },
      "execution_count": 9,
      "outputs": [
        {
          "output_type": "execute_result",
          "data": {
            "text/plain": [
              "Fungal infection                           120\n",
              "Hepatitis C                                120\n",
              "Hepatitis E                                120\n",
              "Alcoholic hepatitis                        120\n",
              "Tuberculosis                               120\n",
              "Common Cold                                120\n",
              "Pneumonia                                  120\n",
              "Dimorphic hemmorhoids(piles)               120\n",
              "Heart attack                               120\n",
              "Varicose veins                             120\n",
              "Hypothyroidism                             120\n",
              "Hyperthyroidism                            120\n",
              "Hypoglycemia                               120\n",
              "Osteoarthristis                            120\n",
              "Arthritis                                  120\n",
              "(vertigo) Paroymsal  Positional Vertigo    120\n",
              "Acne                                       120\n",
              "Urinary tract infection                    120\n",
              "Psoriasis                                  120\n",
              "Hepatitis D                                120\n",
              "Hepatitis B                                120\n",
              "Allergy                                    120\n",
              "hepatitis A                                120\n",
              "GERD                                       120\n",
              "Chronic cholestasis                        120\n",
              "Drug Reaction                              120\n",
              "Peptic ulcer diseae                        120\n",
              "AIDS                                       120\n",
              "Diabetes                                   120\n",
              "Gastroenteritis                            120\n",
              "Bronchial Asthma                           120\n",
              "Hypertension                               120\n",
              "Migraine                                   120\n",
              "Cervical spondylosis                       120\n",
              "Paralysis (brain hemorrhage)               120\n",
              "Jaundice                                   120\n",
              "Malaria                                    120\n",
              "Chicken pox                                120\n",
              "Dengue                                     120\n",
              "Typhoid                                    120\n",
              "Impetigo                                   120\n",
              "Name: prognosis, dtype: int64"
            ]
          },
          "metadata": {},
          "execution_count": 9
        }
      ]
    },
    {
      "cell_type": "markdown",
      "source": [
        "**Data is evenly split between 41 different disease types. For each disease we have data on 132 symtoms that are present in the patients.**\n",
        "The disease are recorded in text, which should be converted into numerical form for applying ML models."
      ],
      "metadata": {
        "id": "kAiQi8CVAdsf"
      }
    },
    {
      "cell_type": "code",
      "source": [
        "#Convert prognosis values into numerical values \n",
        "labenc = LabelEncoder()\n",
        "data_train['prognosis'] = labenc.fit_transform(data_train['prognosis'])"
      ],
      "metadata": {
        "id": "2_2MdwpzidvM"
      },
      "execution_count": 10,
      "outputs": []
    },
    {
      "cell_type": "markdown",
      "source": [
        "####Train/Test Split Dataset"
      ],
      "metadata": {
        "id": "H5-FhvpQBUnx"
      }
    },
    {
      "cell_type": "code",
      "source": [
        "#Split into Train Test\n",
        "x = data_train.iloc[:,:-1]\n",
        "y = data_train.iloc[:, -1]\n",
        "x_train, x_test, y_train, y_test =\\\n",
        "  train_test_split(x,y, test_size=0.2, random_state=0)\n",
        "print(f\"Train: {x_train.shape}, {y_train.shape}\")\n",
        "print(f\"Test : {x_test.shape}, {y_train.shape}\")"
      ],
      "metadata": {
        "colab": {
          "base_uri": "https://localhost:8080/"
        },
        "id": "UrwvRCiUlfIV",
        "outputId": "dc535ffd-fc76-4527-9cfe-b0fdb53918cd"
      },
      "execution_count": 11,
      "outputs": [
        {
          "output_type": "stream",
          "name": "stdout",
          "text": [
            "Train: (3936, 132), (3936,)\n",
            "Test : (984, 132), (3936,)\n"
          ]
        }
      ]
    },
    {
      "cell_type": "markdown",
      "source": [
        "**Checking for null values in data**"
      ],
      "metadata": {
        "id": "hrkiJ9ojBayR"
      }
    },
    {
      "cell_type": "code",
      "source": [
        "print (\"Any Null Values in Data:\",data_train.isnull().values.any())"
      ],
      "metadata": {
        "colab": {
          "base_uri": "https://localhost:8080/"
        },
        "id": "KjxPCK5LywVw",
        "outputId": "be6e2f20-644f-434a-9c3d-c565996b5734"
      },
      "execution_count": 12,
      "outputs": [
        {
          "output_type": "stream",
          "name": "stdout",
          "text": [
            "Any Null Values in Data: False\n"
          ]
        }
      ]
    },
    {
      "cell_type": "markdown",
      "source": [
        "###Models \n",
        "---\n",
        "**Use various Machine Learning models which support multi-class output. We expect the most likely disease diagnosis given symtoms data**\n",
        "1. Support Vector Machine\n",
        "2. Naives Bayes\n",
        "3. Random Forest Decision Trees\n",
        "\n",
        "First, the performance of these models is checked in cross-validation to understand variation in predictions, and the effect a relatively small dataset. Then, the models are applied to the entire *train* data, and the fitted model performance is measured from *validation* data."
      ],
      "metadata": {
        "id": "2UBmtNLds4Mn"
      }
    },
    {
      "cell_type": "code",
      "source": [
        "#cross-validation score metric\n",
        "def cv_scoring(classifier,x,y):\n",
        "    return accuracy_score(y,classifier.predict(x))\n",
        "\n",
        "#Collection of Models\n",
        "models = {\n",
        "    \"SVC\":SVC(),\n",
        "    \"Gaussian NB\":GaussianNB(),\n",
        "    \"Random Forest\":RandomForestClassifier(random_state=0),\n",
        "#    \"Gradient Boosted\":GradientBoostingClassifier(random_state=0)\n",
        "}\n",
        "\n",
        "#Train each model, and cross validate (k-fold)\n",
        "for model in models:\n",
        "  m_ = models[model]\n",
        "  sc = cross_val_score(m_, x, y, cv = 8,\n",
        "                       n_jobs = -1,\n",
        "                       scoring= cv_scoring)\n",
        "  print(\"--\"*10)\n",
        "  print(\"{0:15s} {1:} - Avg: {2:5.1f}  \".format(model,sc,np.mean(sc)))\n",
        "\n",
        "\n"
      ],
      "metadata": {
        "colab": {
          "base_uri": "https://localhost:8080/"
        },
        "id": "2V97I2Sis-mC",
        "outputId": "7f6ad2bc-46f7-499e-a9f3-767e4053baa6"
      },
      "execution_count": 13,
      "outputs": [
        {
          "output_type": "stream",
          "name": "stdout",
          "text": [
            "--------------------\n",
            "SVC             [1. 1. 1. 1. 1. 1. 1. 1.] - Avg:   1.0  \n",
            "--------------------\n",
            "Gaussian NB     [1. 1. 1. 1. 1. 1. 1. 1.] - Avg:   1.0  \n",
            "--------------------\n",
            "Random Forest   [1. 1. 1. 1. 1. 1. 1. 1.] - Avg:   1.0  \n"
          ]
        }
      ]
    },
    {
      "cell_type": "markdown",
      "source": [
        "**Cross-validation shows good fit for all models.**"
      ],
      "metadata": {
        "id": "-mAytul6Cvyb"
      }
    },
    {
      "cell_type": "code",
      "source": [
        "for model in models: \n",
        "  m_ = models[model]\n",
        "  m_.fit(x_train,y_train)\n",
        "  ypred = m_.predict(x_test)\n",
        "  acc   = accuracy_score(ypred,y_test)\n",
        "  print(\"{0:15s} Accuracy: {1:10.2f}\".format(model,acc))"
      ],
      "metadata": {
        "colab": {
          "base_uri": "https://localhost:8080/"
        },
        "id": "DBA5RoRJxHza",
        "outputId": "9771c262-f0bf-45d3-9eb8-955a0fe310e4"
      },
      "execution_count": 14,
      "outputs": [
        {
          "output_type": "stream",
          "name": "stdout",
          "text": [
            "SVC             Accuracy:       1.00\n",
            "Gaussian NB     Accuracy:       1.00\n",
            "Random Forest   Accuracy:       1.00\n"
          ]
        }
      ]
    },
    {
      "cell_type": "code",
      "source": [
        "#validation data\n",
        "x_vtest = data_valdt.iloc[:, :-1]\n",
        "y_vtest = data_valdt.iloc[:, -1]\n",
        "y_vtest = labenc.transform(y_vtest)\n",
        "for model in models:\n",
        "  m_ = models[model]\n",
        "  ypred = m_.predict(x_vtest)\n",
        "  acc   = accuracy_score(ypred,y_vtest)\n",
        "  print(\"{:15s} Val Accuracy: {:10.2}\".format(model,acc))"
      ],
      "metadata": {
        "colab": {
          "base_uri": "https://localhost:8080/"
        },
        "id": "FBnKn2Kd8iIn",
        "outputId": "21bd7f42-02fb-417c-8f13-e2d450d59fdc"
      },
      "execution_count": 15,
      "outputs": [
        {
          "output_type": "stream",
          "name": "stdout",
          "text": [
            "SVC             Val Accuracy:        1.0\n",
            "Gaussian NB     Val Accuracy:        1.0\n",
            "Random Forest   Val Accuracy:       0.98\n"
          ]
        }
      ]
    },
    {
      "cell_type": "markdown",
      "source": [
        "**Good performance in validation as well.**\n",
        "\n",
        "####Predictions\n",
        "Modeld make predictions of the disease given the array of symtoms.\n",
        "The models output individually and the mode of predictions is \n",
        "combined for final output. The combined output will be more robust to biases and inaccuracies of the individual models."
      ],
      "metadata": {
        "id": "iV6UuiA1C4a3"
      }
    },
    {
      "cell_type": "code",
      "source": [
        "#Prediction\n",
        "x_ = np.array(x_test.iloc[10]).reshape(1,-1)\n",
        "y_svc = models[\"SVC\"].predict(x_)\n",
        "y_gnb = models[\"Gaussian NB\"].predict(x_)\n",
        "y_rf  = models[\"Random Forest\"].predict(x_)\n",
        "y_comb= mode([y_svc,y_gnb,y_rf])\n",
        "\n",
        "print (\"Predictions\")\n",
        "print (\"SVC\",labenc.classes_[y_svc])\n",
        "print (\"Gaussian NB\",labenc.classes_[y_gnb])\n",
        "print (\"Random Forest\",labenc.classes_[y_rf])\n",
        "print (\"Final\",labenc.classes_[y_comb.mode[0]])\n",
        "\n",
        "\n",
        "print ('\\n')"
      ],
      "metadata": {
        "colab": {
          "base_uri": "https://localhost:8080/"
        },
        "id": "MjNOdT-c95uD",
        "outputId": "8811a119-e583-4f76-b996-59bd4065e58e"
      },
      "execution_count": 29,
      "outputs": [
        {
          "output_type": "stream",
          "name": "stdout",
          "text": [
            "Predictions\n",
            "SVC ['Urinary tract infection']\n",
            "Gaussian NB ['Urinary tract infection']\n",
            "Random Forest ['Urinary tract infection']\n",
            "Final ['Urinary tract infection']\n",
            "\n",
            "\n"
          ]
        },
        {
          "output_type": "stream",
          "name": "stderr",
          "text": [
            "/usr/local/lib/python3.7/dist-packages/sklearn/base.py:451: UserWarning: X does not have valid feature names, but SVC was fitted with feature names\n",
            "  \"X does not have valid feature names, but\"\n",
            "/usr/local/lib/python3.7/dist-packages/sklearn/base.py:451: UserWarning: X does not have valid feature names, but GaussianNB was fitted with feature names\n",
            "  \"X does not have valid feature names, but\"\n",
            "/usr/local/lib/python3.7/dist-packages/sklearn/base.py:451: UserWarning: X does not have valid feature names, but RandomForestClassifier was fitted with feature names\n",
            "  \"X does not have valid feature names, but\"\n"
          ]
        }
      ]
    },
    {
      "cell_type": "markdown",
      "source": [
        "**Most Useful Symtoms in Prediction**\n",
        "\n",
        "Using decision trees, we can also find the most useful symtoms used by the algorithm to make the decision. They are listed below."
      ],
      "metadata": {
        "id": "MQxreQnHD2OU"
      }
    },
    {
      "cell_type": "code",
      "source": [
        "fimp  = models['Random Forest'].feature_importances_\n",
        "fname = models['Random Forest'].feature_names_in_\n",
        "for i,name in enumerate(fname):\n",
        "  if fimp[i]>12/1000.:\n",
        "    print (\"{:30s} {:5.3f}\".format(name,fimp[i]))"
      ],
      "metadata": {
        "colab": {
          "base_uri": "https://localhost:8080/"
        },
        "id": "YigUIw41B-9Y",
        "outputId": "ff1d4436-6ec3-4313-b9e4-5552359fc156"
      },
      "execution_count": 17,
      "outputs": [
        {
          "output_type": "stream",
          "name": "stdout",
          "text": [
            "itching                        0.016\n",
            "joint_pain                     0.014\n",
            "vomiting                       0.013\n",
            "fatigue                        0.015\n",
            "high_fever                     0.012\n",
            "sweating                       0.015\n",
            "dark_urine                     0.013\n",
            "nausea                         0.014\n",
            "diarrhoea                      0.014\n",
            "mild_fever                     0.016\n",
            "yellowing_of_eyes              0.015\n",
            "chest_pain                     0.013\n",
            "bladder_discomfort             0.012\n",
            "muscle_pain                    0.017\n",
            "red_spots_over_body            0.014\n",
            "family_history                 0.015\n",
            "lack_of_concentration          0.013\n"
          ]
        }
      ]
    },
    {
      "cell_type": "markdown",
      "source": [
        "##References\n",
        "1. Based on example provided [here](https://www.geeksforgeeks.org/disease-prediction-using-machine-learning/)"
      ],
      "metadata": {
        "id": "EuYUxX3PKreM"
      }
    },
    {
      "cell_type": "code",
      "source": [
        ""
      ],
      "metadata": {
        "id": "2_pq7r-eK7h5"
      },
      "execution_count": null,
      "outputs": []
    }
  ]
}