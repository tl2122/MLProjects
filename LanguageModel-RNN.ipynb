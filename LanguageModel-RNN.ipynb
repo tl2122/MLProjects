{
 "cells": [
  {
   "cell_type": "markdown",
   "id": "6765a629",
   "metadata": {},
   "source": [
    "## Building Character-level Language Model with RNN\n",
    "\n",
    "### Introduction\n",
    "A character level language model is built using Recurrent Neural Nets (RNN), and trained \n",
    "on the database of dinosaur names. The model is used to predict new dinosaur names as the output\n",
    "of the model. The hyperparameters (Number of layers, learning rate) are scanned and its effect on the output is monitored. Finally, we provide a set of parameters that work well to provide good \n",
    "predictions by the model.\n"
   ]
  },
  {
   "cell_type": "markdown",
   "id": "1592e3df",
   "metadata": {},
   "source": [
    "## 1 - Pre-processing and Setup \n",
    "\n",
    "[//]: # \"Modified from Minimal character-level Vanilla RNN model, written by Andrej Karpathy\""
   ]
  },
  {
   "cell_type": "code",
   "execution_count": 1,
   "id": "f97d2005",
   "metadata": {},
   "outputs": [],
   "source": [
    "import numpy as np\n",
    "from utils.dino_utils import *\n",
    "import random\n",
    "import pprint\n",
    "import copy\n",
    "import matplotlib.pyplot as plt\n",
    "%matplotlib inline"
   ]
  },
  {
   "cell_type": "code",
   "execution_count": 2,
   "id": "1b808749",
   "metadata": {},
   "outputs": [
    {
     "name": "stdout",
     "output_type": "stream",
     "text": [
      "There are 9687 total characters and 28 unique characters in your data.\n"
     ]
    }
   ],
   "source": [
    "data   = open('data/dinos.txt', 'r').read()\n",
    "data   = data.lower()\n",
    "chars  = list(set(data))\n",
    "data_size, vocab_size = len(data), len(chars)\n",
    "print('There are %d total characters and %d unique characters in your data.' % (data_size, vocab_size))"
   ]
  },
  {
   "cell_type": "code",
   "execution_count": 3,
   "id": "2d3253a3",
   "metadata": {},
   "outputs": [
    {
     "name": "stdout",
     "output_type": "stream",
     "text": [
      "{   0: '\\n',\n",
      "    1: ' ',\n",
      "    2: 'a',\n",
      "    3: 'b',\n",
      "    4: 'c',\n",
      "    5: 'd',\n",
      "    6: 'e',\n",
      "    7: 'f',\n",
      "    8: 'g',\n",
      "    9: 'h',\n",
      "    10: 'i',\n",
      "    11: 'j',\n",
      "    12: 'k',\n",
      "    13: 'l',\n",
      "    14: 'm',\n",
      "    15: 'n',\n",
      "    16: 'o',\n",
      "    17: 'p',\n",
      "    18: 'q',\n",
      "    19: 'r',\n",
      "    20: 's',\n",
      "    21: 't',\n",
      "    22: 'u',\n",
      "    23: 'v',\n",
      "    24: 'w',\n",
      "    25: 'x',\n",
      "    26: 'y',\n",
      "    27: 'z'}\n"
     ]
    }
   ],
   "source": [
    "#Characters in the file\n",
    "chars = sorted(chars)\n",
    "\n",
    "#Char to Index, Index to Char table\n",
    "char_to_ix = { ch:i for i,ch in enumerate(chars) }\n",
    "ix_to_char = { i:ch for i,ch in enumerate(chars) }\n",
    "pp = pprint.PrettyPrinter(indent=4)\n",
    "pp.pprint(ix_to_char)"
   ]
  },
  {
   "cell_type": "markdown",
   "id": "a3243878",
   "metadata": {},
   "source": [
    "28 characters in total, 26 alphabets + empty char + end-of-line"
   ]
  },
  {
   "cell_type": "markdown",
   "id": "655d644e",
   "metadata": {},
   "source": [
    "## 2 -Run Model"
   ]
  },
  {
   "cell_type": "markdown",
   "id": "df875a9f",
   "metadata": {},
   "source": [
    "The RNN model is defined in dino_utils.py. The hyperparams, characters, and character-to-num dictionary, are provided from the code below. The model outputs dinosaur names for the previous two iterations which are multiples of 1000. Since we have the problem of exploding/vanishing gradients gradient clipping is implemented in the model."
   ]
  },
  {
   "cell_type": "code",
   "execution_count": 4,
   "id": "711128ab",
   "metadata": {},
   "outputs": [],
   "source": [
    "# Hyperparameters\n",
    "hyparams = {}\n",
    "hyparams['hidden_size']   = 50    # size of hidden layer of neurons\n",
    "hyparams['seq_length']    = 25    # number of steps to unroll the RNN for\n",
    "hyparams['n_iterations']  = 15000"
   ]
  },
  {
   "cell_type": "markdown",
   "id": "5df909e4",
   "metadata": {},
   "source": [
    "The names (data) are divided into number of sequences of size `seq_length`, and is always less than or equal to `hidden_size` (RNN layers)."
   ]
  },
  {
   "cell_type": "code",
   "execution_count": 5,
   "id": "79b3ef47",
   "metadata": {},
   "outputs": [
    {
     "name": "stdout",
     "output_type": "stream",
     "text": [
      "Hyper Parameters\n",
      " --+--+--+--+--+--+--+--+--+--+--+--+--+--+--+\n",
      "{   'hidden_size': 50,\n",
      "    'learning_rate': 0.05,\n",
      "    'n_iterations': 15000,\n",
      "    'seq_length': 25}\n",
      "----\n",
      " reuspanyx\n",
      "sinavasaurus\n",
      "manonnghoqeus\n",
      "telichion\n",
      "hagopenatrus\n",
      " \n",
      "----\n",
      "iter 13000, loss: 52.066510\n",
      "----\n",
      " aperrnonyx\n",
      "binditaniaur\n",
      "sataranauratotontandosaurus\n",
      "argosaurus\n",
      "brosaurus\n",
      " \n",
      "----\n",
      "iter 14000, loss: 50.704341\n"
     ]
    }
   ],
   "source": [
    "hyparams['learning_rate'] = 5e-2\n",
    "loss_arr1, _,_  = runmodel(hyparams,vocab_size,data,chars)\n",
    "label1 = \"learning rate {:.3f}\".format(hyparams['learning_rate'])"
   ]
  },
  {
   "cell_type": "markdown",
   "id": "db7b9618",
   "metadata": {},
   "source": [
    "The outputed names above, are reasonably good after ~15000 iterations with nominal hyperparameters. \n",
    "Next, we scan the hyperparameters.\n",
    "###  Hyperparameter Scan"
   ]
  },
  {
   "cell_type": "code",
   "execution_count": 6,
   "id": "beb3f584",
   "metadata": {},
   "outputs": [
    {
     "name": "stdout",
     "output_type": "stream",
     "text": [
      "Hyper Parameters\n",
      " --+--+--+--+--+--+--+--+--+--+--+--+--+--+--+\n",
      "{   'hidden_size': 50,\n",
      "    'learning_rate': 0.1,\n",
      "    'n_iterations': 15000,\n",
      "    'seq_length': 25}\n",
      "----\n",
      " chahosaurus\n",
      "weheosaurus\n",
      "ontholysaurus\n",
      "menzheosaurus\n",
      "xagonthus\n",
      " \n",
      "----\n",
      "iter 13000, loss: 54.130161\n",
      "----\n",
      " trasaurus\n",
      "acawpanthgordosaurosaurus\n",
      "sauroetitan\n",
      "tantia\n",
      "ihamphatosaurus\n",
      " \n",
      "----\n",
      "iter 14000, loss: 52.819588\n",
      "Hyper Parameters\n",
      " --+--+--+--+--+--+--+--+--+--+--+--+--+--+--+\n",
      "{   'hidden_size': 50,\n",
      "    'learning_rate': 0.5,\n",
      "    'n_iterations': 15000,\n",
      "    'seq_length': 25}\n",
      "----\n",
      " s\n",
      "danpanqtasausasaurus\n",
      "ons\n",
      "nus\n",
      "pranahtyrucbosaurur\n",
      " \n",
      "----\n",
      "iter 13000, loss: 63.746996\n",
      "----\n",
      " erotomatevacanops\n",
      "rfocomatosgemacontten\n",
      "ncoabinuplops\n",
      "lciinartus\n",
      "vecilirarhahetor\n",
      " \n",
      "----\n",
      "iter 14000, loss: 62.678433\n",
      "Hyper Parameters\n",
      " --+--+--+--+--+--+--+--+--+--+--+--+--+--+--+\n",
      "{   'hidden_size': 100,\n",
      "    'learning_rate': 0.05,\n",
      "    'n_iterations': 15000,\n",
      "    'seq_length': 25}\n",
      "----\n",
      " wlopter\n",
      "kesulosaurus\n",
      "rinjchrumrgvinisaurus\n",
      "numonusia\n",
      "seanatelanlosaurus\n",
      " \n",
      "----\n",
      "iter 13000, loss: 51.009474\n",
      "----\n",
      " itiptreropyus\n",
      "agiamarchia\n",
      "pianguparaptor\n",
      "pyracreyutoryx\n",
      "elinyavicasaurus\n",
      " \n",
      "----\n",
      "iter 14000, loss: 49.454026\n",
      "Hyper Parameters\n",
      " --+--+--+--+--+--+--+--+--+--+--+--+--+--+--+\n",
      "{   'hidden_size': 25,\n",
      "    'learning_rate': 0.05,\n",
      "    'n_iterations': 15000,\n",
      "    'seq_length': 25}\n",
      "----\n",
      " stionyxyx\n",
      "onerophaconsaurus\n",
      "hamaliateps\n",
      "opsioteg\n",
      "aajaonavosaurus\n",
      " \n",
      "----\n",
      "iter 13000, loss: 54.494789\n",
      "----\n",
      " emoelca\n",
      "abrelosaurus\n",
      "alitrotanator\n",
      "piocor\n",
      "paxasaurus\n",
      " \n",
      "----\n",
      "iter 14000, loss: 53.331084\n"
     ]
    }
   ],
   "source": [
    "hyparams['learning_rate'] = 1e-1\n",
    "loss_arr2, _,_  = runmodel(hyparams,vocab_size,data,chars)\n",
    "label2 = \"learning rate {:.3f}\".format(hyparams['learning_rate'])\n",
    "\n",
    "hyparams['learning_rate'] = 5e-1\n",
    "loss_arr3, _,_  = runmodel(hyparams,vocab_size,data,chars)\n",
    "label3 = \"learning rate {:.3f}\".format(hyparams['learning_rate'])\n",
    "\n",
    "hyparams['learning_rate'] = 5e-2\n",
    "hyparams['hidden_size']   = 100    # size of hidden layer of neurons\n",
    "loss_arr4, _,_  = runmodel(hyparams,vocab_size,data,chars)\n",
    "label4 = \"Number of RNN layers {:.0f}\".format(hyparams['hidden_size'])\n",
    "\n",
    "hyparams['hidden_size']   = 25    # size of hidden layer of neurons\n",
    "loss_arr5, _,_            = runmodel(hyparams,vocab_size,data,chars)\n",
    "label5 = \"Number of RNN layers {:.0f}\".format(hyparams['hidden_size'])"
   ]
  },
  {
   "cell_type": "markdown",
   "id": "500d7667",
   "metadata": {},
   "source": [
    "Performance suffers when the learning rate is large (0.5), while increasing RNN layers does not lead to much improvement."
   ]
  },
  {
   "cell_type": "markdown",
   "id": "3b3b42d1",
   "metadata": {},
   "source": [
    "## 3 - Plots"
   ]
  },
  {
   "cell_type": "code",
   "execution_count": 7,
   "id": "a89e6215",
   "metadata": {},
   "outputs": [
    {
     "data": {
      "image/png": "[encoded data removed]",
      "text/plain": [
       "<Figure size 432x288 with 1 Axes>"
      ]
     },
     "metadata": {
      "needs_background": "light"
     },
     "output_type": "display_data"
    }
   ],
   "source": [
    "niter_loss = len(loss_arr1)\n",
    "nsparse    = 500\n",
    "\n",
    "plt.figure()\n",
    "plt.plot(range(0,niter_loss,nsparse),loss_arr1[::nsparse])\n",
    "plt.plot(range(0,niter_loss,nsparse),loss_arr2[::nsparse])\n",
    "plt.plot(range(0,niter_loss,nsparse),loss_arr3[::nsparse])\n",
    "plt.legend([label1,label2,label3])\n",
    "plt.xlabel(\"Iterations\")\n",
    "plt.ylabel(\"Loss\")\n",
    "plt.show()"
   ]
  },
  {
   "cell_type": "code",
   "execution_count": 8,
   "id": "e8883269",
   "metadata": {
    "scrolled": true
   },
   "outputs": [
    {
     "data": {
      "image/png": "[encoded data removed]",
      "text/plain": [
       "<Figure size 432x288 with 1 Axes>"
      ]
     },
     "metadata": {
      "needs_background": "light"
     },
     "output_type": "display_data"
    }
   ],
   "source": [
    "plt.figure()\n",
    "plt.plot(range(0,niter_loss,nsparse),loss_arr4[::nsparse])\n",
    "plt.plot(range(0,niter_loss,nsparse),loss_arr5[::nsparse])\n",
    "plt.legend([label4,label5])\n",
    "plt.xlabel(\"Iterations\")\n",
    "plt.ylabel(\"Loss\")\n",
    "plt.show()"
   ]
  },
  {
   "cell_type": "markdown",
   "id": "55588c3e",
   "metadata": {},
   "source": [
    "## 4 - Conclusions\n",
    "1. Character-level RNN works well in learning the dinosaur names. The model is trained on 25 characters at a\n",
    "time, with learning_rate 0.1 and minimum of 25 RNN layers. Increasing layers does not change the result very much. \n",
    "2. This relatively simple model,  works well for character generation. A more complex model, with long distance sequence dependencies, would be required for language comprehension and text generation."
   ]
  },
  {
   "cell_type": "markdown",
   "id": "2e46e3aa",
   "metadata": {},
   "source": [
    "## 5 - References \n",
    "Based on Minimal character level vanilla RNN model written by Andrej Karpathy:\n",
    "https://gist.github.com/karpathy/d4dee566867f8291f086"
   ]
  }
 ],
 "metadata": {
  "kernelspec": {
   "display_name": "Python 3 (ipykernel)",
   "language": "python",
   "name": "python3"
  },
  "language_info": {
   "codemirror_mode": {
    "name": "ipython",
    "version": 3
   },
   "file_extension": ".py",
   "mimetype": "text/x-python",
   "name": "python",
   "nbconvert_exporter": "python",
   "pygments_lexer": "ipython3",
   "version": "3.10.4"
  }
 },
 "nbformat": 4,
 "nbformat_minor": 5
}
